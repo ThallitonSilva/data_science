{
  "nbformat": 4,
  "nbformat_minor": 0,
  "metadata": {
    "colab": {
      "name": "Analisando Dados de Buenos Aires.ipynb",
      "provenance": [],
      "collapsed_sections": [],
      "include_colab_link": true
    },
    "kernelspec": {
      "name": "python3",
      "display_name": "Python 3"
    }
  },
  "cells": [
    {
      "cell_type": "markdown",
      "metadata": {
        "id": "view-in-github",
        "colab_type": "text"
      },
      "source": [
        "<a href=\"https://colab.research.google.com/github/ThallitonSilva/data_science/blob/master/Analisando_Dados_de_Buenos_Aires.ipynb\" target=\"_parent\"><img src=\"https://colab.research.google.com/assets/colab-badge.svg\" alt=\"Open In Colab\"/></a>"
      ]
    },
    {
      "cell_type": "markdown",
      "metadata": {
        "id": "kLI0gJtzDGuQ",
        "colab_type": "text"
      },
      "source": [
        "\n",
        "# Análise dos Dados do Airbnb - ***Buenos Aires***\n",
        "\n",
        "\n",
        "\n",
        "---\n",
        "\n",
        "\n",
        "**Caso queira visualizar somente os insights que foram obtidos a partir desses dados e sem ter toda essa chatice do código, é só acessar esse link aqui:<link ainda não está pronto> , vai ser legal, eu prometo.**\n",
        "\n",
        "\n",
        "---\n",
        "\n",
        "\n",
        "Sempre que pensamos em viajar, vem a duvida em nossa cabeça: \"Vou ficar em um Hotel? Uma pousada? Talvez um Hostel? Ou vou instigar meu lado aventureiro e irei acampar?\"\n",
        "\n",
        "Claro que tudo isso depende de diversos fatores, é complicado querer acampar se você vai viajar com sua família e tem um filho pequeno. Da mesma forma, querer ficar em um hotel 5 estrelas quando se tem a diária de 8 pessoas para pagar, pode ficar um pouco salgado para sua carteira - dependendo de quanto você ganha. E, portanto, escolher o local no qual você irá passar suas noites de descanso se tornam uma **tarefa crucial** no planejamento da sua viagem.\n",
        "\n",
        "Tendo isso em vista, o [Airbnb](https://www.airbnb.com.br/) chegou com mais uma opção para você levar em conta quando for escolher o local em que irá ficar. Essa plataforma permite que pessoas que possuem um quarto ou uma casa vaga, possam alugar esses locais para pessoas como **você**, que estão decidindo o melhor lugar para repousar.\n",
        "\n",
        "Seguindo uma lógica semelhante a de empresas com nomes já conhecidos e gravados em nossos corações - *quem nunca pensou no iFood quando bateu aquela fome? Ou disse a famosa frase \"Quanto fica o Uber pra sua casa?\" para a pessoa que te tira sorrisos bobos?* - o Airbnb presta serviços hoteleiros sem nem mesmo ter um hotel com seu nome para contar história.\n",
        "\n",
        "Mas, desde que nos facilite e poupe nosso tempo - *e nossa carteira* - quem somos nós para julgá-los, não é mesmo?\n",
        "\n",
        "Ainda mais devido a uma das iniciativas **super bacanas** que eles têm: **DISPONIBILIZAR DADOS!**\n",
        "\n",
        "Qual empresa não ganha o amor de um cientista de dados quando ela disponibiliza seus dados para que esse cientista possa analisar, me diz?\n",
        "\n",
        "Através do portal [Inside Airbnb](http://insideairbnb.com/get-the-data.html), nós podemos ter acesso a dados de grandes cidades turísticas ao redor do mundo!\n",
        "\n",
        "E é aqui que começa nossa jornada rumo a análise desses dados lindos, porém, nem tanto. (**spoiler alert**: *Poxa Airbnb, mínimo de mil noites para alugar uma casa? Meu cartão de crédito não aguenta isso não - meu chefe também não iria me dar umas férias desse tamanho*)\n",
        "\n",
        "\n",
        "A partir daqui, eu irei fazer o possível para ajudá-lo a entender cada passo para a análise desses dados. Vem comigo! \n",
        "\n"
      ]
    },
    {
      "cell_type": "markdown",
      "metadata": {
        "id": "L4-KQimMQ9YA",
        "colab_type": "text"
      },
      "source": [
        "![Buenos Aires](https://aguiarbuenosaires.com/wp-content/uploads/2015/10/Buenos-Aires-Skyline-by-Puerto-Madero-Night.jpg)"
      ]
    },
    {
      "cell_type": "markdown",
      "metadata": {
        "id": "0zxQHhIUDF_2",
        "colab_type": "text"
      },
      "source": [
        "## Obtenção dos Dados\n"
      ]
    },
    {
      "cell_type": "markdown",
      "metadata": {
        "id": "tm7-6LeO4kya",
        "colab_type": "text"
      },
      "source": [
        "### Importação das Bibliotecas"
      ]
    },
    {
      "cell_type": "markdown",
      "metadata": {
        "id": "zMEpSGU4v4aI",
        "colab_type": "text"
      },
      "source": [
        "Primeiramente, temos que importar nossas bibliotecas\n",
        "\n",
        "Para as análises que faremos, vamos utilizar 5 em específico:\n",
        "\n",
        "* `Pandas` - É a nossa queridinha dos dados, faz de tudo que precisamos e ainda não nos cobra nada por isso!\n",
        "\n",
        "* `Matplotlib` - Se você quer fazer gráficos de forma fácil e rápida, chama ela!\n",
        "\n",
        "* `Seaborn` - Gráficos não são tudo na vida, beleza também é essencial! Essa aqui nos ajuda a visualizar de forma mais bonitinha.\n",
        "\n",
        "* `Folium` - Também queremos mapas, eles são úteis! É sério!"
      ]
    },
    {
      "cell_type": "markdown",
      "metadata": {
        "id": "iGCRN9yOzfCQ",
        "colab_type": "text"
      },
      "source": [
        "Então, para importar as bibliotecas, utilizaremos o comando **import**\n",
        "\n",
        "Como nós somos preguiçosos e queremos facilitar nossa vida, nós vamos apelidar essas bibliotecas com um nome menor, que vai ser mais fácil pra digitar (É como Chamar a Renata de \"Re\", mas só para os íntimos)\n",
        "\n",
        "Esses 'apelidos' já são amplamente adotados pela comunidade de Data Science, não vamos mudar as regras do jogo né?\n",
        "\n",
        "O Pandas, vamos chamar de **pd**\n",
        "\n",
        "O Matplotlib, vamos chamar de **plt**\n",
        "\n",
        "O Seaborn, vamos chamar de **sns**\n",
        "\n",
        "O Folium, não vamos dar nenhum apelido não (Tadinho!)\n",
        "\n",
        "\n",
        "O comando **%matplotlib inline** é para que os gráficos que vamos gerar possam ser plotados (ou desenhados) aqui no Colab, logo que a gente executar a célula!"
      ]
    },
    {
      "cell_type": "code",
      "metadata": {
        "id": "Vhp2wMPgJ6zX",
        "colab_type": "code",
        "colab": {}
      },
      "source": [
        "# importar os pacotes necessarios\n",
        "import pandas as pd\n",
        "import matplotlib.pyplot as plt\n",
        "import seaborn as sns\n",
        "import folium\n",
        "\n",
        "%matplotlib inline"
      ],
      "execution_count": 0,
      "outputs": []
    },
    {
      "cell_type": "markdown",
      "metadata": {
        "id": "3SwtOIwH4niE",
        "colab_type": "text"
      },
      "source": [
        "### Importação dos dados para análise"
      ]
    },
    {
      "cell_type": "markdown",
      "metadata": {
        "id": "PTvQllxv0JzD",
        "colab_type": "text"
      },
      "source": [
        "O arquivo que nós queremos utilizar (*Dados do Airbnb de Buenos Aires, caso não se lembre*) está com um pequeno defeito - *Poxa Airbnb (ou Poxa Pandas?)*.\n",
        "\n",
        "Se nós olharmos bem para o link dele:\n",
        "\n",
        "\" http://data.insideairbnb.com/argentina/ciudad-autónoma-de-buenos-aires/buenos-aires/2020-04-26/visualisations/listings.csv \"\n",
        "\n",
        "Essa parte aqui \"autónoma\"  não é reconhecida pelo Pandas para que ele possa acessar esse link (Para o Pandas, no lugar desse \" ó \" tá escrito \"%C3%B3\", acredite!).\n",
        "\n",
        "Portanto a forma mais fácil de trazer esses dados pra cá é baixar ele no nosso PC e jogar o arquivo ali no canto esquerdo do seu Colab\n",
        "\n",
        "<--\n",
        "\n",
        "Na pasta \"Files\"\n",
        "\n",
        "Depois disso é só clicar com o botão direito do mouse em cima do arquivo e clicar em \"Copy path\"\n",
        "\n",
        "Feito isso é só seguir com as análises!\n"
      ]
    },
    {
      "cell_type": "markdown",
      "metadata": {
        "id": "jIxdnOJv29Gt",
        "colab_type": "text"
      },
      "source": [
        "O comando para importar o arquivo ***.csv*** para dentro de um DataFrame (O nome é difícil, mas é como se fosse uma tabela do Excel, você vai ver) é o \"read_csv\"\n",
        "\n",
        "Como ele faz parte do Pandas (E nós apelidamos carinhosamente nosso Pandas de ***pd*** quando importamos a biblioteca) nós utilizaremos o comando ***pd.read_csv(\"caminho do seu arquivo a ser lido\")*** e vamos armazenar esses dados em uma variável chamada ***b_aires***\n",
        "\n",
        "Normalmente, você irá ver as pessoas colocando como padrão o nome da variável de ***df***, a abrevição de DataFrame, mas não faz isso não, por favor!\n",
        "\n",
        "Usa um nome que reflete o que a variável está armazenando, isso vai facilitar bastante seu trabalho, confia em mim\n",
        "\n",
        "Usaremos ***b_aires*** pois a variável armazena os dados de - *adivinha* - Buenos Aires! Super intuitivo e muito mais prático!\n",
        "\n"
      ]
    },
    {
      "cell_type": "code",
      "metadata": {
        "id": "tUmoAT8DLQ5T",
        "colab_type": "code",
        "colab": {}
      },
      "source": [
        "# importar o arquivo listings.csv para um DataFrame\n",
        "b_aires = pd.read_csv(\"/content/listings.csv\")"
      ],
      "execution_count": 0,
      "outputs": []
    },
    {
      "cell_type": "markdown",
      "metadata": {
        "id": "f8K6ziu_SN8L",
        "colab_type": "text"
      },
      "source": [
        "![Buenos Aires](https://www.melhoresdestinos.com.br/wp-content/uploads/2019/02/passagens-aereas-buenos-aires-capa2019-05-820x430.jpg)"
      ]
    },
    {
      "cell_type": "markdown",
      "metadata": {
        "id": "qb5By2nIMS6m",
        "colab_type": "text"
      },
      "source": [
        "## Análise dos Dados\n"
      ]
    },
    {
      "cell_type": "markdown",
      "metadata": {
        "id": "zged-K_D4tHF",
        "colab_type": "text"
      },
      "source": [
        "### Dicionário das colunas"
      ]
    },
    {
      "cell_type": "markdown",
      "metadata": {
        "id": "WJECGNDc8klY",
        "colab_type": "text"
      },
      "source": [
        "Bom, para começar nossas análises, nós precisamos entender primeiramente quais são os dados que nós estamos trabalhando, certo?!\n",
        "\n",
        "Então abaixo está um dicionário dos nossos dados, ou seja, o nome das colunas que nós temos em nossa tabela e o que cada uma dessas colunas representa\n",
        "\n",
        "É super útil!\n",
        "\n",
        "Então se um dia for você criando uma tabela para outras pessoas, **FAÇA UM DICIONÁRIO!** Obrigado\n"
      ]
    },
    {
      "cell_type": "markdown",
      "metadata": {
        "id": "RYgvuebKNg8-",
        "colab_type": "text"
      },
      "source": [
        "\n",
        "\n",
        "---\n",
        "\n",
        "\n",
        "**Dicionário das variáveis**\n",
        "\n",
        "\n",
        "* `id` - ID que identifica o imóvel\n",
        "\n",
        "* `name` - Nome dado ao imóvel\n",
        "\n",
        "* `host_id` - ID que identifica o proprietário (anfitrião)\n",
        "\n",
        "* `host_name` - Nome do proprietário\n",
        "\n",
        "* `neighbourhood_group` - Distritos ou regiões que englobam vários bairros (nem todas as cidades terão essa coluna válida)\n",
        "\n",
        "* `neighbourhood` - Nome do bairro\n",
        "\n",
        "* `latitude` - Latitude do imóvel\n",
        "\n",
        "* `longitude` - Longitude do imóvel\n",
        "\n",
        "* `room_type` - Tipo de quarto oferecido\n",
        "\n",
        "* `price` - O preço da diária de locação\n",
        "\n",
        "* `minimum_nights` - Quantidade mínima de noites que deve ser alugada\n",
        "\n",
        "* `number_of_reviews` - Número de críticas/avaliações recebidas\n",
        "\n",
        "* `last_review` - Data da última crítica/avaliação recebida\n",
        "\n",
        "* `reviews_per_month` - Quantidades de críticas/avaliações recebidas por mês\n",
        "\n",
        "* `calculated_host_listings_count` - Número de imóveis alugados pelo mesmo anfitrião\n",
        "\n",
        "* `availability_365` - Numero de dias em que o imóvel fica disponivel  para aluguel por ano\n",
        "\n",
        "\n",
        "---\n",
        "\n"
      ]
    },
    {
      "cell_type": "markdown",
      "metadata": {
        "id": "C1J9TRHn43Dd",
        "colab_type": "text"
      },
      "source": [
        "### Comando Shape"
      ]
    },
    {
      "cell_type": "markdown",
      "metadata": {
        "id": "dsTkTbJ49mag",
        "colab_type": "text"
      },
      "source": [
        "Certo, agora nós já temos uma ideia de quais dados temos em mãos (Airbnb de Buenos Aires)\n",
        "\n",
        "E, agora, também sabemos quais colunas nós temos para trabalhar e tirar nossas conclusões\n",
        "\n",
        "Se você ficou com preguiça de contar, eu te digo que nós temos 16 colunas na nossa tabela\n",
        "\n",
        "Mas, como eu sei que você é preguiçoso e nao quer voltar lá pra contar e ter certeza que eu te disse a verdade\n",
        "\n",
        "Nós precisamos ter uma maneira mais fácil de verificar isso\n",
        "\n",
        "Além do mais, nós também não sabemos quantas linhas essa nossa tabela tem\n",
        "\n",
        "Então, primeiramente vamos verificar a forma da nossa tabela, como seria o \"*corpo*\" dela\n",
        "\n",
        "Ou, em inglês, o **shape** do nosso DataFrame"
      ]
    },
    {
      "cell_type": "markdown",
      "metadata": {
        "id": "oPmOVK1Q_QKV",
        "colab_type": "text"
      },
      "source": [
        "Então vamos lá, nós queremos ver o **shape** de qual dado?\n",
        "\n",
        "Se você esta prestando atenção, sabe que é da nossa variável **b_aires**, que contém a tabela dos dados de Buenos Aires\n",
        "\n",
        "Então é simples, vamos pegar a nossa tabela e chamar esse tal **shape** \n",
        "\n",
        "No Pandas, nós fazemos essa \"chamada\" utilizando um ponto - é, isso mesmo, esse ponto aqui \"***.***\" que usa no fim de uma frase\n",
        "\n",
        "Portanto, faremos: ***b_aires.shape()*** "
      ]
    },
    {
      "cell_type": "code",
      "metadata": {
        "id": "uEj2Ohqi_Ja-",
        "colab_type": "code",
        "colab": {
          "base_uri": "https://localhost:8080/",
          "height": 35
        },
        "outputId": "ce58205f-9e1b-475f-c175-7302bb46a389"
      },
      "source": [
        "# Como verificar a quantidade de linhas e colunas no DataFrame\n",
        "\n",
        "b_aires.shape"
      ],
      "execution_count": 65,
      "outputs": [
        {
          "output_type": "execute_result",
          "data": {
            "text/plain": [
              "(23729, 16)"
            ]
          },
          "metadata": {
            "tags": []
          },
          "execution_count": 65
        }
      ]
    },
    {
      "cell_type": "markdown",
      "metadata": {
        "id": "9a_NL0zaBwrG",
        "colab_type": "text"
      },
      "source": [
        "Bom, como nós ja sabemos que a nossa tabela tem 16 colunas\n",
        "\n",
        "É intuitivo entender que o outro valor é a quantidade de linhas da nossa tabela\n",
        "\n",
        "---\n",
        "\n",
        "\n",
        "\n",
        "Mas, para deixar claro algumas coisas, vamos entender melhor o que o **shape** nos retorna:\n",
        "\n",
        "A princípio nos é fornecido dois valores, separados por uma vírgula\n",
        "\n",
        "Vimos que o primeiro valor se refere as linhas, já o segundo as colunas\n",
        "\n",
        "Como em programação, as coisas sempre começam com zero [0], nosso querido Pandas segue a mesma lógica\n",
        "\n",
        "Portanto os valores que foram retornados pelo **shape** é:\n",
        "\n",
        "* shape[0]: 23729 linhas\n",
        "\n",
        "* shape[1]: 16 colunas\n",
        "\n",
        "---\n",
        "\n",
        "\n",
        "Lembre-se disso, pois, a partir de agora, todas as vezes que você quiser referenciar a coluna, você utilizará o valor (ou índice) [1]\n",
        "\n",
        "E, quando quiser referenciar as linhas, voce utilizará o valor (ou índice) [0]\n",
        "\n",
        "Veremos mais para frente, comandos em que nós precisamos passar o \"eixo\" que nós queremos modificar, dessa maneira, há duas opções:\n",
        "\n",
        "* Se passarmos o \"eixo\" [0], modificaremos as **linhas**\n",
        "\n",
        "* Se passarmos o \"eixo\" [1], modificaremos as **colunas**\n",
        "\n",
        "\n",
        "Guarde isso no coração, com carinho!\n"
      ]
    },
    {
      "cell_type": "markdown",
      "metadata": {
        "id": "jcFawVOB5C1g",
        "colab_type": "text"
      },
      "source": [
        "### Comando Head"
      ]
    },
    {
      "cell_type": "markdown",
      "metadata": {
        "id": "irrstRurFbps",
        "colab_type": "text"
      },
      "source": [
        "Com esses conceitos entendidos, vamos prosseguir com nossa análise\n",
        "\n",
        "Até o momento, nós sabemos com quais dados estamos trabalhando (Airbnb Buenos Aires)\n",
        "\n",
        "Sabemos o tamanho dessa nossa tabela (23729 Linhas e 16 Colunas)\n",
        "\n",
        "Maaaas, até agora nós não demos uma olhada em como essa nossa tabela é!\n",
        "\n",
        "Não vimos a carinha dela até o presente momento\n",
        "\n",
        "Vamos ter que dar um jeito nisso!\n",
        "\n",
        "Como nós sabemos, essa tabela tem mais de 20 mil linhas, isso quer dizer que se nós quiséssemos que essa tabela fosse desnhada aqui, ficaria muito grande! (E consequentemente muito feio, vamos manter as coisas bonitas por aqui, certo?)\n",
        "\n",
        "Então nós precisamos de uma maneira de ver só uma parte desses dados\n",
        "\n",
        "Para termos uma ideia de como é a carinha dessa tabela\n",
        "\n",
        "Existe um meio de fazer isso!\n",
        "\n",
        "Esse meio se chama **head()** - isso mesmo, de \"cabeça\" - e ele nos mostra as primeiras 5 linhas da nossa tabela, intuitivo não?\n",
        "\n",
        "Ver 5 linhas é bem melhor do que 20 mil, né?\n",
        "\n",
        "Então novamente, nós pegamos a nossa tabela **b_aires** e chamamos esse tal de **head()**\n",
        "\n",
        "Por algumas questões do Pandas, nós precisamos colocar o **()** no final dessa chamada\n",
        "\n",
        "\n",
        "***Não se preocupe, com o tempo nós vamos decorando quando se deve usar o () ou não! Pode ficar em paz (Além de tudo, temos o StackOverflow do nosso lado da força)***\n",
        "\n",
        "\n",
        "\n",
        "---\n",
        "\n",
        "Vale ressaltar que: se colocarmos algum valor dentro dos **()**, como por exemplo **head(15)**, o Pandas vai nos mostrar as primeiras 15 linhas, em vez de apenas 5\n",
        "\n",
        "Não utilizaremos essa função por enquanto, mas fica a informação aqui\n",
        "\n",
        "Caso queira brincar e ver mais linhas da sua tabela, fique a vontade!"
      ]
    },
    {
      "cell_type": "code",
      "metadata": {
        "id": "2iS_dae7YQtO",
        "colab_type": "code",
        "colab": {
          "base_uri": "https://localhost:8080/",
          "height": 574
        },
        "outputId": "a4be048a-7f53-40cf-cf5d-33fd42b60da9"
      },
      "source": [
        "# mostrar as 5 primeiras entradas\n",
        "\n",
        "b_aires.head()"
      ],
      "execution_count": 66,
      "outputs": [
        {
          "output_type": "execute_result",
          "data": {
            "text/html": [
              "<div>\n",
              "<style scoped>\n",
              "    .dataframe tbody tr th:only-of-type {\n",
              "        vertical-align: middle;\n",
              "    }\n",
              "\n",
              "    .dataframe tbody tr th {\n",
              "        vertical-align: top;\n",
              "    }\n",
              "\n",
              "    .dataframe thead th {\n",
              "        text-align: right;\n",
              "    }\n",
              "</style>\n",
              "<table border=\"1\" class=\"dataframe\">\n",
              "  <thead>\n",
              "    <tr style=\"text-align: right;\">\n",
              "      <th></th>\n",
              "      <th>id</th>\n",
              "      <th>name</th>\n",
              "      <th>host_id</th>\n",
              "      <th>host_name</th>\n",
              "      <th>neighbourhood_group</th>\n",
              "      <th>neighbourhood</th>\n",
              "      <th>latitude</th>\n",
              "      <th>longitude</th>\n",
              "      <th>room_type</th>\n",
              "      <th>price</th>\n",
              "      <th>minimum_nights</th>\n",
              "      <th>number_of_reviews</th>\n",
              "      <th>last_review</th>\n",
              "      <th>reviews_per_month</th>\n",
              "      <th>calculated_host_listings_count</th>\n",
              "      <th>availability_365</th>\n",
              "    </tr>\n",
              "  </thead>\n",
              "  <tbody>\n",
              "    <tr>\n",
              "      <th>0</th>\n",
              "      <td>11508</td>\n",
              "      <td>Amazing Luxurious Apt-Palermo Soho</td>\n",
              "      <td>42762</td>\n",
              "      <td>Candela</td>\n",
              "      <td>NaN</td>\n",
              "      <td>Palermo</td>\n",
              "      <td>-34.58184</td>\n",
              "      <td>-58.42415</td>\n",
              "      <td>Entire home/apt</td>\n",
              "      <td>3983</td>\n",
              "      <td>2</td>\n",
              "      <td>26</td>\n",
              "      <td>2019-11-28</td>\n",
              "      <td>0.27</td>\n",
              "      <td>1</td>\n",
              "      <td>365</td>\n",
              "    </tr>\n",
              "    <tr>\n",
              "      <th>1</th>\n",
              "      <td>12463</td>\n",
              "      <td>Room in Recoleta - awesome location</td>\n",
              "      <td>48799</td>\n",
              "      <td>Matt</td>\n",
              "      <td>NaN</td>\n",
              "      <td>Recoleta</td>\n",
              "      <td>-34.59761</td>\n",
              "      <td>-58.39468</td>\n",
              "      <td>Private room</td>\n",
              "      <td>1593</td>\n",
              "      <td>1</td>\n",
              "      <td>20</td>\n",
              "      <td>2017-12-11</td>\n",
              "      <td>0.16</td>\n",
              "      <td>1</td>\n",
              "      <td>365</td>\n",
              "    </tr>\n",
              "    <tr>\n",
              "      <th>2</th>\n",
              "      <td>13095</td>\n",
              "      <td>Standard Room at Palermo Viejo B&amp;B</td>\n",
              "      <td>50994</td>\n",
              "      <td>Ariel</td>\n",
              "      <td>NaN</td>\n",
              "      <td>Palermo</td>\n",
              "      <td>-34.59382</td>\n",
              "      <td>-58.42994</td>\n",
              "      <td>Private room</td>\n",
              "      <td>2987</td>\n",
              "      <td>1</td>\n",
              "      <td>1</td>\n",
              "      <td>2018-12-18</td>\n",
              "      <td>0.06</td>\n",
              "      <td>7</td>\n",
              "      <td>365</td>\n",
              "    </tr>\n",
              "    <tr>\n",
              "      <th>3</th>\n",
              "      <td>13096</td>\n",
              "      <td>Standard Room in Palermo Viejo B&amp;B</td>\n",
              "      <td>50994</td>\n",
              "      <td>Ariel</td>\n",
              "      <td>NaN</td>\n",
              "      <td>Palermo</td>\n",
              "      <td>-34.59398</td>\n",
              "      <td>-58.42853</td>\n",
              "      <td>Private room</td>\n",
              "      <td>2987</td>\n",
              "      <td>1</td>\n",
              "      <td>0</td>\n",
              "      <td>NaN</td>\n",
              "      <td>NaN</td>\n",
              "      <td>7</td>\n",
              "      <td>365</td>\n",
              "    </tr>\n",
              "    <tr>\n",
              "      <th>4</th>\n",
              "      <td>13097</td>\n",
              "      <td>Standard Room at Palermo Viejo B&amp;B</td>\n",
              "      <td>50994</td>\n",
              "      <td>Ariel</td>\n",
              "      <td>NaN</td>\n",
              "      <td>Palermo</td>\n",
              "      <td>-34.59348</td>\n",
              "      <td>-58.42949</td>\n",
              "      <td>Private room</td>\n",
              "      <td>2987</td>\n",
              "      <td>1</td>\n",
              "      <td>66</td>\n",
              "      <td>2019-11-27</td>\n",
              "      <td>1.89</td>\n",
              "      <td>7</td>\n",
              "      <td>365</td>\n",
              "    </tr>\n",
              "  </tbody>\n",
              "</table>\n",
              "</div>"
            ],
            "text/plain": [
              "      id  ... availability_365\n",
              "0  11508  ...              365\n",
              "1  12463  ...              365\n",
              "2  13095  ...              365\n",
              "3  13096  ...              365\n",
              "4  13097  ...              365\n",
              "\n",
              "[5 rows x 16 columns]"
            ]
          },
          "metadata": {
            "tags": []
          },
          "execution_count": 66
        }
      ]
    },
    {
      "cell_type": "markdown",
      "metadata": {
        "id": "ctkpUhnW5JX1",
        "colab_type": "text"
      },
      "source": [
        "### Comando isnull"
      ]
    },
    {
      "cell_type": "markdown",
      "metadata": {
        "id": "TZLakenuKlMi",
        "colab_type": "text"
      },
      "source": [
        "Agoooora sim!\n",
        "\n",
        "Agora nós já sabemos todas as informações da nossa tabela que precisamos para conseguir avançar nas nossas inferências\n",
        "\n",
        "E, por falar nisso, já podemos verificar algumas coisas olhando para essas 5 primeiras linhas da nossa tabela\n",
        "\n",
        "Lembra que, lá no dicionário, eu te disse que a coluna **neighbourhood_group** não seria válida para todas as cidades? Pois é...\n",
        "\n",
        "Buenos Aires não tem essa informação\n",
        "\n",
        "Como podemos ver, essa coluna está preenchida com **NaN**\n",
        "\n",
        "Algumas outras colunas, como as **last_review** e\t**reviews_per_month**, estão com algumas linhas preenchidas e outras com **NaN**\n",
        "\n",
        "\n",
        "\n",
        "---\n",
        "\n",
        "**Curiosidade**: NaN significa \"Not a Number\", o que quer dizer que os valores dessas células não são um número\n",
        "\n",
        "Normalmente essa notação (NaN) é utilizada para quando os dados foram deixados em branco\n",
        "\n",
        "Podemos encontrar outras notações também, como a **NA**, **null**, entre outros\n",
        "\n",
        "---\n"
      ]
    },
    {
      "cell_type": "markdown",
      "metadata": {
        "id": "OH5F5JFiNqOB",
        "colab_type": "text"
      },
      "source": [
        "Então vamos continuar as nossas análises\n",
        "\n",
        "Já vimos que nossa tabela possui alguns valores ausentes\n",
        "\n",
        "Então agora nós precisamos saber algumas coisas:\n",
        "\n",
        "* Quantas colunas possuem valores ausentes?\n",
        "\n",
        "* Qual a porcentagem desses valores ausentes em relação a nossa tabela completa?\n",
        "\n",
        "Para isso, nós iremos chamar outra função que nos retorna os valores ausentes da tabela\n",
        "\n",
        "Essa função é a **isnull()** - isso mesmo, como se uma pessoa estivesse perguntando \"É ausente?\" - intuitivo!\n",
        "\n",
        "Novamente faremos os passos anteriores, pegaremos nosso querido **b_aires** e vamos perguntar **isnull()**?\n",
        "\n",
        "Como nós somos preguiçosos, e queremos deixar tudo bonito, se só colocarmos: ***b_aires.isnull()***, nós teremos como retorno uma tabela gigante (mais de 20 mil linhas) com vários True/False\n",
        "\n",
        "Onde os valores que estão ausentes recebem **True** e os valores não ausentes (ou seja, o que está preenchido) recebem **False**\n",
        "\n",
        "Vai ser meio dificil contar todos esses valores na unha, um por um, não quero isso não\n",
        "\n",
        "Então, para facilitar nossa vida, vamos chamar outra função para nos ajudar, a função **sum()** - isso mesmo, de somar - vou parar de falar que o Pandas é intuitivo, acho que você já entendeu isso\n",
        "\n",
        "Portanto, nosso código final será: **b_aires.isnull().sum()**\n",
        "\n",
        "O que nos retornará uma lista bonitinha e fácil de visualizar dos valores ausentes\n",
        "\n",
        "Vamos lá!"
      ]
    },
    {
      "cell_type": "markdown",
      "metadata": {
        "id": "DKJQD7nXP2TW",
        "colab_type": "text"
      },
      "source": [
        "### Análise geral dos dados\n"
      ]
    },
    {
      "cell_type": "code",
      "metadata": {
        "id": "wmtlTGDpPQSx",
        "colab_type": "code",
        "colab": {
          "base_uri": "https://localhost:8080/",
          "height": 329
        },
        "outputId": "923580a6-24bf-401d-9272-79caf513b23e"
      },
      "source": [
        "# Vendo as variáveis ausentes\n",
        "\n",
        "b_aires.isnull().sum()"
      ],
      "execution_count": 67,
      "outputs": [
        {
          "output_type": "execute_result",
          "data": {
            "text/plain": [
              "id                                    0\n",
              "name                                 10\n",
              "host_id                               0\n",
              "host_name                             3\n",
              "neighbourhood_group               23729\n",
              "neighbourhood                         0\n",
              "latitude                              0\n",
              "longitude                             0\n",
              "room_type                             0\n",
              "price                                 0\n",
              "minimum_nights                        0\n",
              "number_of_reviews                     0\n",
              "last_review                        6507\n",
              "reviews_per_month                  6507\n",
              "calculated_host_listings_count        0\n",
              "availability_365                      0\n",
              "dtype: int64"
            ]
          },
          "metadata": {
            "tags": []
          },
          "execution_count": 67
        }
      ]
    },
    {
      "cell_type": "markdown",
      "metadata": {
        "id": "zSsYAFI8dktZ",
        "colab_type": "text"
      },
      "source": [
        "Certo! Bom trabalho para nós! (Se a gente não se valorizar, quem vai né?)\n",
        "\n",
        "Podemos ver que existem algumas colunas com valores ausentes\n",
        "\n",
        "Algumas coulunas com mais valores ausentes do que outras\n",
        "\n",
        "Mas fica dificil mensurar isso, dizer que 6 mil valores estão ausentes a principio parece muito\n",
        "\n",
        "Porém, em um universo paralelo, se nossa tabela possuisse 100 mil linhas, um valor de 6 mil linhas ausentes já não seria tanto...\n",
        "\n",
        "Pois bem, voltando ao nosso universo, o que eu quero dizer é: Há alguma maneira mais fácil de conseguirmos compreender se esses valores ausentes são realmente uma grande parte dos nossos dados?\n",
        "\n",
        "A resposta é **Sim!**\n",
        "\n",
        "Mas como? \n",
        "\n",
        "Jovem gafanhoto, é só usarmos a porcentagem!\n",
        "\n",
        "Pois bem, como usaremos a porcentagem aqui?\n",
        "\n",
        "Nós ja temos a soma das linhas com valores ausentes certo? (Dica: *b_aires.isnull().sum()*)\n",
        "\n",
        "Se lembrarmos da época de escola, recordamos que a porcentagem é a soma dos valores que queremos, dividido pela quantidade total de valores\n",
        "Depois pegamos isso e multiplicamos por 100\n",
        "\n",
        "Mas, como nós pegamos a quantidade de linhas da nossa tabela? Você se lembra? (Dica: *b_aires.shape[0]* (Eu disse que iriamos usar aquela informação não é?))\n",
        "\n",
        "Pois bem, já temos a faca e o quejo na mão!\n",
        "\n",
        "Só precisamos dividir um pelo outro\n",
        "\n",
        "Por fim, teremos algo assim: **(b_aires.isnull().sum() / b_aires.shape[0])**\n",
        "\n",
        "E, então, multiplicamos por 100: **((b_aires.isnull().sum() / b_aires.shape[0]) * 100)**"
      ]
    },
    {
      "cell_type": "code",
      "metadata": {
        "id": "_XpVK5hGgUyy",
        "colab_type": "code",
        "colab": {
          "base_uri": "https://localhost:8080/",
          "height": 329
        },
        "outputId": "11dee691-334c-48c5-e67b-17d8ca80fb92"
      },
      "source": [
        "# Verificando a porcentagem de valores ausentes\n",
        "\n",
        "((b_aires.isnull().sum() / b_aires.shape[0]) * 100)"
      ],
      "execution_count": 68,
      "outputs": [
        {
          "output_type": "execute_result",
          "data": {
            "text/plain": [
              "id                                  0.000000\n",
              "name                                0.042143\n",
              "host_id                             0.000000\n",
              "host_name                           0.012643\n",
              "neighbourhood_group               100.000000\n",
              "neighbourhood                       0.000000\n",
              "latitude                            0.000000\n",
              "longitude                           0.000000\n",
              "room_type                           0.000000\n",
              "price                               0.000000\n",
              "minimum_nights                      0.000000\n",
              "number_of_reviews                   0.000000\n",
              "last_review                        27.422142\n",
              "reviews_per_month                  27.422142\n",
              "calculated_host_listings_count      0.000000\n",
              "availability_365                    0.000000\n",
              "dtype: float64"
            ]
          },
          "metadata": {
            "tags": []
          },
          "execution_count": 68
        }
      ]
    },
    {
      "cell_type": "markdown",
      "metadata": {
        "id": "R2CNcngTg7x9",
        "colab_type": "text"
      },
      "source": [
        "Caso nós queiramos esses dados ordenados, é só adicionar mais um comando no final\n",
        "\n",
        "E qual comando seria esse?\n",
        "\n",
        "Vou te dar uma chance de adivinhar... Eu já disse que o Pandas é intuitivo\n",
        "\n",
        "O comando **sort_values()** - isso mesmo, de \"ordenar valores\" - intuitivo demais!\n",
        "\n",
        "Pois bem, só devemos nos atentar para uma coisa, nós queremos que os maiores dados fiquem em cima, correto?\n",
        "\n",
        "Então queremos uma ordenação do maior para o menor, de forma **descendente**\n",
        "\n",
        "O **sort_values** possui uma informação que se chama **ascending**, que basicamente diz que os dados vão ser ordenador de forma \"Ascendente\"\n",
        "\n",
        "Por tanto, como queremos o contrário, precisamos passar esse parametro como **False**\n",
        "\n",
        "Ao final, teremos isso: **((b_aires.isnull().sum() / b_aires.shape[0]) * 100).sort_values(ascending=False)**"
      ]
    },
    {
      "cell_type": "code",
      "metadata": {
        "id": "Z924bARBimyF",
        "colab_type": "code",
        "colab": {
          "base_uri": "https://localhost:8080/",
          "height": 329
        },
        "outputId": "9f8f50db-3afe-4ad0-ef44-53b28f6a1204"
      },
      "source": [
        "# Ordenando os valores da porcentagem\n",
        "\n",
        "((b_aires.isnull().sum() / b_aires.shape[0]) * 100).sort_values(ascending=False)"
      ],
      "execution_count": 69,
      "outputs": [
        {
          "output_type": "execute_result",
          "data": {
            "text/plain": [
              "neighbourhood_group               100.000000\n",
              "reviews_per_month                  27.422142\n",
              "last_review                        27.422142\n",
              "name                                0.042143\n",
              "host_name                           0.012643\n",
              "availability_365                    0.000000\n",
              "calculated_host_listings_count      0.000000\n",
              "number_of_reviews                   0.000000\n",
              "minimum_nights                      0.000000\n",
              "price                               0.000000\n",
              "room_type                           0.000000\n",
              "longitude                           0.000000\n",
              "latitude                            0.000000\n",
              "neighbourhood                       0.000000\n",
              "host_id                             0.000000\n",
              "id                                  0.000000\n",
              "dtype: float64"
            ]
          },
          "metadata": {
            "tags": []
          },
          "execution_count": 69
        }
      ]
    },
    {
      "cell_type": "markdown",
      "metadata": {
        "id": "G4sDWhnljEse",
        "colab_type": "text"
      },
      "source": [
        "Dessa maneira, temos que:\n",
        "\n",
        "* A coluna **neighbourhood_group** possui todos os seus valores nulos, 100% deles, tudinho\n",
        "\n",
        "* As colunas **reviews_per_month** e **last_review** possuem a mesma quantidade de valores ausentes, o que é de fácil compreensão: Quando não se tem nenhuma avaliação por mês, consequentemente não há uma \"ultima avaliação\"; São colunas que se completam (De certa forma)\n",
        "\n",
        "* As colunas **name** e **host_name** possuem poquissimos valores ausentes\n",
        "\n",
        "Para nossa sorte, nenhuma dessas colunas que possuem os valores ausentes são de grande importancia para nós (Aí sim! Pelo menos alguma sorte!)\n",
        "\n",
        "\n"
      ]
    },
    {
      "cell_type": "markdown",
      "metadata": {
        "id": "1hxDJcamSzA4",
        "colab_type": "text"
      },
      "source": [
        "Mas você pode estar se perguntando: \"A coluna **number_of_reviews** também não deveria estar com valores ausentes? Afinal, se não há nenhuma avaliação por mês, nem uma \"última avaliação\"\n",
        "\n",
        "Se nós olharmos para nosso **b_aires.head()**, podemos perceber que alguns valores dessa coluna estão preenchidos com zero [0], esses zeros correspondem ao **NaN** das outras duas colunas\n",
        "\n",
        "Mas será que a quantidade de zeros nessa coluna, também é a mesma quantidade de valores ausentes nas outras duas colunas?\n",
        "\n",
        "Vamos checar isso!\n",
        "\n",
        "Para tal, precisamos verificar na coluna **number_of_reviews**, quantas linhas possuem o valor zero\n",
        "\n",
        "E como faremos?\n",
        "\n",
        "Bom... precisamos pegar a coluna **number_of_reviews** == 0 (Lembre-se que \"igual\" em programação é \"==\")\n",
        "\n",
        "Como essa coluna esta no nosso querido **b_aires**, passamos: **b_aires.number_of_reviews == 0**\n",
        "\n",
        "\n",
        "---\n",
        "\n",
        "\n",
        "*Acho que eu devo ter esquecido de te mencionar que, quando queremos acessar uma coluna especifica em uma tabela, nós colocamos o nome da tabela, um ponto e colocamos o nome da nossa coluna*\n",
        "\n",
        "\n",
        "---\n",
        "\n",
        "Com mais essa dica, vamos prosseguir!\n",
        "\n",
        "Essa expressão vai nos retornar uma tabela com um monte de True e False, e nós somos preguiçosos né? Queremos tudo contadinho para a gente, sem esforço\n",
        "\n",
        "Então é só adicionarmos o **.sum()** ao final\n",
        "\n",
        "Como iremos chamar o *.sum()*, precisamos colocar nossa expressão *b_aires.number_of_reviews == 0* entre (), para dar tudo certo\n",
        "\n",
        "Vamos lá?\n"
      ]
    },
    {
      "cell_type": "code",
      "metadata": {
        "id": "on2gHHD8Ta5v",
        "colab_type": "code",
        "colab": {
          "base_uri": "https://localhost:8080/",
          "height": 35
        },
        "outputId": "b110ed26-ba55-4e2b-b4a8-117e8f15bbb0"
      },
      "source": [
        "# Verificar a quantidade de linhas com valor 0 em 'number_of_reviews'\n",
        "\n",
        "(b_aires.number_of_reviews == 0).sum()"
      ],
      "execution_count": 70,
      "outputs": [
        {
          "output_type": "execute_result",
          "data": {
            "text/plain": [
              "6507"
            ]
          },
          "metadata": {
            "tags": []
          },
          "execution_count": 70
        }
      ]
    },
    {
      "cell_type": "markdown",
      "metadata": {
        "id": "ukXRDhfkgFrS",
        "colab_type": "text"
      },
      "source": [
        "Como podemos ver, existem exatos 6507 linhas com valores zero [0]\n",
        "\n",
        "Exatamente o mesmo tanto que as outras duas colunas *reviews_per_month e last_review*\n",
        "\n",
        "Esses valores estão nulos ou zerados pois, possivelmente, esses imóveis nunca foram alugados\n",
        "\n",
        "Então, podemos tirar nosso primeiro *insight* dos dados:\n",
        "\n",
        "* *Existem 6507 imóveis em Buenos Aires que, possivelmente, nunca foram alugados*"
      ]
    },
    {
      "cell_type": "markdown",
      "metadata": {
        "id": "X7Hhim5Ohs7-",
        "colab_type": "text"
      },
      "source": [
        "Acho que está na hora de vermos nossos dados de uma maneira mais bonitinha, não?\n",
        "\n",
        "Que tal, **gráficos**?\n",
        "\n",
        "Vamos ver como nossas colunas estão distribuidas em histogramas\n",
        "\n",
        "Isso é bem simples, basta nós colocarmos o nome da nossa tabela (**b_aires**), chamar o **hist** (De *histograma*, uau!) e passar alguns parâmetros para nosso gráfico ficar bonito\n",
        "\n",
        "Os parâmetros que vamos passar são dois:\n",
        "\n",
        "* `bins` - A quantidade de \"barrinhas\" que nosso gráfico vai ter\n",
        "\n",
        "* `figsize` - O tamanho dos nossos gráficos\n",
        "\n",
        "E os valores respectivos são de sua escolha!\n",
        "\n",
        "Eu achei bem bonito os valores de ***bins = 30*** e ***figsize(20, 15)***, então usaremos esses\n",
        "\n",
        "Se você prestar bastante atenção, ao final do código eu coloco um \"**;**\" ele serve para que não seja escrito os parametros do gráfico antes de desenhar o mesmo\n",
        "\n",
        "Tire o \";\" e veja a diferença, muito mais bonito com ele não é?"
      ]
    },
    {
      "cell_type": "code",
      "metadata": {
        "id": "DZt8eDSniQAo",
        "colab_type": "code",
        "colab": {
          "base_uri": "https://localhost:8080/",
          "height": 879
        },
        "outputId": "9ccb0786-5e84-40c1-8237-662869b78b16"
      },
      "source": [
        "# Plotar os histogramas dos nossos dados\n",
        "\n",
        "b_aires.hist(bins = 30, figsize = (20, 15));"
      ],
      "execution_count": 71,
      "outputs": [
        {
          "output_type": "display_data",
          "data": {
            "image/png": "[encoded data removed]",
            "text/plain": [
              "<Figure size 1440x1080 with 12 Axes>"
            ]
          },
          "metadata": {
            "tags": [],
            "needs_background": "light"
          }
        }
      ]
    },
    {
      "cell_type": "markdown",
      "metadata": {
        "id": "r9hR82volMyO",
        "colab_type": "text"
      },
      "source": [
        "Quando usamos o **b_aires.hist()**, são desenhados os gráficos de todas as colunas numéricas que nós temos\n",
        "\n",
        "Algumas não nos dizem nada, como as colunas **host_id, id e neighbourhood_group**\n",
        "\n",
        "Outras podem até nos dizer algo, como as colunas:\n",
        "\n",
        "* **calculated_host_listings_count** que nos diz a quantidade de imóveis para aluguel que cada anfitrião tem (Alguns tem mais de 80 imóveis, eita!)\n",
        "\n",
        "* **latitude** que nos mostra em qual latitude estão concentradas a maior parte do imóveis\n",
        "\n",
        "* **longitute** que segue a mesma lógica da *latitude*\n",
        "\n",
        "\n",
        "Mas, estas colunas não são nosso foco\n",
        "\n",
        "Para continuar nossas análises, vamos focar nas colunas **price**, **minimun_nights** e **availability_365**"
      ]
    },
    {
      "cell_type": "markdown",
      "metadata": {
        "id": "BV2tmAXIowSD",
        "colab_type": "text"
      },
      "source": [
        "Olhando nossos gráficos, podemos perceber que:\n",
        "\n",
        "* **price** - Existem valores de diárias que vão até 600.000 Pesos Argentinos, eu não sei quanto vale um Peso Argentino, mas esse valor não parece agradável ao meu bolso...\n",
        "\n",
        "* **minimum_nights** - Existem imóveis que pedem que você fique **no mínimo** mil noites (Isso da quase 3 anos, meu chefe não ia gostar de me dar umas férias desse tanto não...)\n",
        "\n",
        "* **availability_365** - Há imóveis que não estão disponiveis nenhum dia do ano!? Como o anfitrião aluga eles?\n",
        "\n",
        "Esses valores exorbitantes, nós chamamos de *outliers*\n",
        "\n",
        "São *pontos fora da curva* que não representam a maioria dos dados (*Tipo aquele seu primo que passou em 5 faculdades de medicina diferentes em primeiro lugar*)\n",
        "\n",
        "E, portanto, precisamos retirar esses valores dos nossos dados, para deixá-los mais condizentes com a realidade\n",
        "\n",
        "Antes de tudo, vamos verificar a descrição estatística desses dados\n",
        "\n",
        "Para isso, vamos utilizar a função **describe()**\n",
        "\n",
        "Como as colunas que nos interessam são as: **price**, **minimun_nights** e **availability_365**, vamos passar somente essas duas colunas para a função\n",
        "\n",
        "Entao faremos: **b_aires[['price', 'minimum_nights', 'availability_365']].describe()**\n",
        "\n",
        "Isso mesmo, entre dois \"[[\" pois o primeiro colchete é para selecionarmos a coluna, mas como nós queremos mais de uma coluna, precisamos passar todas as colunas que queremos dentro de uma lista\n",
        "\n",
        "E, listas em Python sao definidas entre \"[ ]\", portanto há a necessidade de se colocar dois colchetes\n",
        "\n",
        "Vamos lá!"
      ]
    },
    {
      "cell_type": "code",
      "metadata": {
        "id": "PykXaqGyxXRx",
        "colab_type": "code",
        "colab": {
          "base_uri": "https://localhost:8080/",
          "height": 300
        },
        "outputId": "1b4c5674-2462-4b72-cf12-0d05aedb48ae"
      },
      "source": [
        "# Verificar a descrição estatistica dos dados\n",
        "\n",
        "b_aires[['price', 'minimum_nights', 'availability_365']].describe()"
      ],
      "execution_count": 72,
      "outputs": [
        {
          "output_type": "execute_result",
          "data": {
            "text/html": [
              "<div>\n",
              "<style scoped>\n",
              "    .dataframe tbody tr th:only-of-type {\n",
              "        vertical-align: middle;\n",
              "    }\n",
              "\n",
              "    .dataframe tbody tr th {\n",
              "        vertical-align: top;\n",
              "    }\n",
              "\n",
              "    .dataframe thead th {\n",
              "        text-align: right;\n",
              "    }\n",
              "</style>\n",
              "<table border=\"1\" class=\"dataframe\">\n",
              "  <thead>\n",
              "    <tr style=\"text-align: right;\">\n",
              "      <th></th>\n",
              "      <th>price</th>\n",
              "      <th>minimum_nights</th>\n",
              "      <th>availability_365</th>\n",
              "    </tr>\n",
              "  </thead>\n",
              "  <tbody>\n",
              "    <tr>\n",
              "      <th>count</th>\n",
              "      <td>23729.000000</td>\n",
              "      <td>23729.000000</td>\n",
              "      <td>23729.000000</td>\n",
              "    </tr>\n",
              "    <tr>\n",
              "      <th>mean</th>\n",
              "      <td>4014.875595</td>\n",
              "      <td>6.027519</td>\n",
              "      <td>209.383750</td>\n",
              "    </tr>\n",
              "    <tr>\n",
              "      <th>std</th>\n",
              "      <td>16075.326378</td>\n",
              "      <td>25.635455</td>\n",
              "      <td>137.991373</td>\n",
              "    </tr>\n",
              "    <tr>\n",
              "      <th>min</th>\n",
              "      <td>0.000000</td>\n",
              "      <td>1.000000</td>\n",
              "      <td>0.000000</td>\n",
              "    </tr>\n",
              "    <tr>\n",
              "      <th>25%</th>\n",
              "      <td>1394.000000</td>\n",
              "      <td>1.000000</td>\n",
              "      <td>89.000000</td>\n",
              "    </tr>\n",
              "    <tr>\n",
              "      <th>50%</th>\n",
              "      <td>2124.000000</td>\n",
              "      <td>3.000000</td>\n",
              "      <td>180.000000</td>\n",
              "    </tr>\n",
              "    <tr>\n",
              "      <th>75%</th>\n",
              "      <td>3319.000000</td>\n",
              "      <td>4.000000</td>\n",
              "      <td>363.000000</td>\n",
              "    </tr>\n",
              "    <tr>\n",
              "      <th>max</th>\n",
              "      <td>663732.000000</td>\n",
              "      <td>1125.000000</td>\n",
              "      <td>365.000000</td>\n",
              "    </tr>\n",
              "  </tbody>\n",
              "</table>\n",
              "</div>"
            ],
            "text/plain": [
              "               price  minimum_nights  availability_365\n",
              "count   23729.000000    23729.000000      23729.000000\n",
              "mean     4014.875595        6.027519        209.383750\n",
              "std     16075.326378       25.635455        137.991373\n",
              "min         0.000000        1.000000          0.000000\n",
              "25%      1394.000000        1.000000         89.000000\n",
              "50%      2124.000000        3.000000        180.000000\n",
              "75%      3319.000000        4.000000        363.000000\n",
              "max    663732.000000     1125.000000        365.000000"
            ]
          },
          "metadata": {
            "tags": []
          },
          "execution_count": 72
        }
      ]
    },
    {
      "cell_type": "markdown",
      "metadata": {
        "id": "f3vygtMgy1h6",
        "colab_type": "text"
      },
      "source": [
        "Quando executamos o **describe()**, várias informações são passadas\n",
        "\n",
        "Nós focaremos somente em algumas:\n",
        "\n",
        "* `count` - A quantidade de imóveis da nossa tabela\n",
        "\n",
        "* `mean` - A média dos nossos dados, ela é MUITO influenciada pelos nossos indesejados *outliers*\n",
        "\n",
        "* `min` - O valor minimo presente nos nossos dados (Existem imóveis com preço zero!? Tipo... eu posso ir morar lá de graça? Eita\")\n",
        "\n",
        "* `75%` - O valor em que 75% dos nossos dados são menores ou iguais a ele (75% dos anfitriões exigem um minimo de 4 noites ou menos para alugar seu imóvel) - a mesma lógica vale para os valores 25% e 50%\n",
        "\n",
        "* `max` - O valor máximo presente nos dados (Eu queria muito umas férias de 1125 dias)\n",
        "\n",
        "Dessa maneira, podemos perceber que:\n",
        "\n",
        "* 75% dos imóveis tem uma diária de 3319 Pesos Argentinos ou menos\n",
        "\n",
        "* 75% dos anfitriões exigem um minimo de 4 noites ou menos\n",
        "\n",
        "* 75% dos imóveis estão disponiveis praticamente o ano todo - apesar de existirem imóveis que não estão disponiveis nenhum dia do ano (Pelo menos a disponibilidade máxima está como 365, Ufa!)\n"
      ]
    },
    {
      "cell_type": "markdown",
      "metadata": {
        "id": "xoQXoNF85lcJ",
        "colab_type": "text"
      },
      "source": [
        "### Limpeza dos dados"
      ]
    },
    {
      "cell_type": "markdown",
      "metadata": {
        "id": "TsgvysQ66Era",
        "colab_type": "text"
      },
      "source": [
        "Tendo em vista esses novos conhecimentos a cerca de nossos dados\n",
        "\n",
        "Precisamos retirar esses dados que estão fora do comum\n",
        "\n",
        "Para esclarecer e confirmar que você está pensando junto comigo, vamos detalhar os dados que vamos retirar e o motivo:\n",
        "\n",
        "* Retirar os dados com valores na coluna **price** muito baixos ou muito altos\n",
        "\n",
        "* Retirar os valores na coluna **minimum_nights** com valores acima de 30 dias, pois (para questões das nossas análises) ficar mais de 30 dias passeando fica fora do orçamento e não há dados com **minimum_nights** com valores de zero\n",
        "\n",
        "* Retirar os valores na coluna **availability_365** iguais a zero, afinal se o minimo de noites que você tem que ficar é 1, o imóvel tem que estar disponivel pelo menos 1 dia por ano, né?"
      ]
    },
    {
      "cell_type": "markdown",
      "metadata": {
        "id": "BcXENBFAAv-c",
        "colab_type": "text"
      },
      "source": [
        "Bom, quase tudo certo até aqui, exceto por uma coisa:\n",
        "\n",
        "* Como vamos definir quais valores são \"muito baixos\" e \"muito altos\" para retirar da nossa coluna **price**?\n",
        "\n",
        "Para definir isso, eu irei adotar duas condições que são as seguintes: \n",
        "\n",
        "* Os valores abaixo do percentil 1% são considerados muito baixo\n",
        "\n",
        "* Os valores acima de 6640 Pesos Argentinos (2x o percentil 75%) são considerados muito altos\n",
        "\n",
        "Lembre-se: Estes valores foram definidos por mim, pois foi o que considerei mais válido para continuar as análises. Você, meu pequeno gafanhoto, pode achar melhor considerar outros valores e está tudo bem!\n",
        "\n",
        "Então... Os valores \"muito altos\" estão fáceis, mas como eu vou saber os valores abaixo do percentil 1%?\n",
        "\n",
        "Para isso, vamos retornar a nossa função **describe()** e passar alguns novos parâmetros para ela, que será o **percentiles**\n",
        "\n",
        "Dessa maneira, podemos escolher os valores dos percentis que nós queremos e passamos para o **describre()** em forma de uma lista\n",
        "\n",
        "Como queremos o percentil 1% e os demais valores queremos que continue, vamos passar: **[.01, .25, .5, .75]**\n",
        "\n",
        "Então, no final, teremos: \n",
        "\n",
        "***b_aires[['price', 'minimum_nights', 'availability_365']].describe(percentiles=[.01, .25, .5, .75])***"
      ]
    },
    {
      "cell_type": "code",
      "metadata": {
        "id": "lZtbq7b57pp1",
        "colab_type": "code",
        "colab": {
          "base_uri": "https://localhost:8080/",
          "height": 332
        },
        "outputId": "bbd2f8c6-91cb-4be3-9a83-9edc0f3b1718"
      },
      "source": [
        "# Verificar a descrição estatistica dos dados, mas adicionando o percentil 1%\n",
        "\n",
        "b_aires[['price', 'minimum_nights', 'availability_365']].describe(percentiles=[.01, .25, .5, .75])"
      ],
      "execution_count": 73,
      "outputs": [
        {
          "output_type": "execute_result",
          "data": {
            "text/html": [
              "<div>\n",
              "<style scoped>\n",
              "    .dataframe tbody tr th:only-of-type {\n",
              "        vertical-align: middle;\n",
              "    }\n",
              "\n",
              "    .dataframe tbody tr th {\n",
              "        vertical-align: top;\n",
              "    }\n",
              "\n",
              "    .dataframe thead th {\n",
              "        text-align: right;\n",
              "    }\n",
              "</style>\n",
              "<table border=\"1\" class=\"dataframe\">\n",
              "  <thead>\n",
              "    <tr style=\"text-align: right;\">\n",
              "      <th></th>\n",
              "      <th>price</th>\n",
              "      <th>minimum_nights</th>\n",
              "      <th>availability_365</th>\n",
              "    </tr>\n",
              "  </thead>\n",
              "  <tbody>\n",
              "    <tr>\n",
              "      <th>count</th>\n",
              "      <td>23729.000000</td>\n",
              "      <td>23729.000000</td>\n",
              "      <td>23729.000000</td>\n",
              "    </tr>\n",
              "    <tr>\n",
              "      <th>mean</th>\n",
              "      <td>4014.875595</td>\n",
              "      <td>6.027519</td>\n",
              "      <td>209.383750</td>\n",
              "    </tr>\n",
              "    <tr>\n",
              "      <th>std</th>\n",
              "      <td>16075.326378</td>\n",
              "      <td>25.635455</td>\n",
              "      <td>137.991373</td>\n",
              "    </tr>\n",
              "    <tr>\n",
              "      <th>min</th>\n",
              "      <td>0.000000</td>\n",
              "      <td>1.000000</td>\n",
              "      <td>0.000000</td>\n",
              "    </tr>\n",
              "    <tr>\n",
              "      <th>1%</th>\n",
              "      <td>398.000000</td>\n",
              "      <td>1.000000</td>\n",
              "      <td>0.000000</td>\n",
              "    </tr>\n",
              "    <tr>\n",
              "      <th>25%</th>\n",
              "      <td>1394.000000</td>\n",
              "      <td>1.000000</td>\n",
              "      <td>89.000000</td>\n",
              "    </tr>\n",
              "    <tr>\n",
              "      <th>50%</th>\n",
              "      <td>2124.000000</td>\n",
              "      <td>3.000000</td>\n",
              "      <td>180.000000</td>\n",
              "    </tr>\n",
              "    <tr>\n",
              "      <th>75%</th>\n",
              "      <td>3319.000000</td>\n",
              "      <td>4.000000</td>\n",
              "      <td>363.000000</td>\n",
              "    </tr>\n",
              "    <tr>\n",
              "      <th>max</th>\n",
              "      <td>663732.000000</td>\n",
              "      <td>1125.000000</td>\n",
              "      <td>365.000000</td>\n",
              "    </tr>\n",
              "  </tbody>\n",
              "</table>\n",
              "</div>"
            ],
            "text/plain": [
              "               price  minimum_nights  availability_365\n",
              "count   23729.000000    23729.000000      23729.000000\n",
              "mean     4014.875595        6.027519        209.383750\n",
              "std     16075.326378       25.635455        137.991373\n",
              "min         0.000000        1.000000          0.000000\n",
              "1%        398.000000        1.000000          0.000000\n",
              "25%      1394.000000        1.000000         89.000000\n",
              "50%      2124.000000        3.000000        180.000000\n",
              "75%      3319.000000        4.000000        363.000000\n",
              "max    663732.000000     1125.000000        365.000000"
            ]
          },
          "metadata": {
            "tags": []
          },
          "execution_count": 73
        }
      ]
    },
    {
      "cell_type": "markdown",
      "metadata": {
        "id": "iYqc9mGPEPPD",
        "colab_type": "text"
      },
      "source": [
        "Então agora temos tudo em nossas mãos novamente\n",
        "\n",
        "Os valores que iremos usar são:\n",
        "\n",
        "* \"Muito alto\" = 6640 Pesos Argentinos\n",
        "\n",
        "* \"Muito baixo' = 400 Pesos Argentinos\n"
      ]
    },
    {
      "cell_type": "markdown",
      "metadata": {
        "id": "EkyBizQIEyFI",
        "colab_type": "text"
      },
      "source": [
        "Então chegou o grande momento, vamos retirar esses dados indesejados das nossas análises\n",
        "\n",
        "Mas espera... Como vamos fazer isso?\n",
        "\n",
        "Para retirar os dados vamos primeiramente fazer uma cópia da nossa tabela **b_aires** em uma outra variável chamda **b_aires_clean**\n",
        "\n",
        "Faremos essa cópia chamando o comando **copy()**\n",
        "\n",
        "Vamos fazer essa cópia para que, caso seja necessário a gente voltar para a tabela original, tudo vai estar certinho lá ainda né? É só chamar nossa querida **b_aires**\n",
        "\n",
        "então, teremos algo assim:\n",
        "\n",
        "**b_aires_clean = b_aires.copy()**"
      ]
    },
    {
      "cell_type": "code",
      "metadata": {
        "id": "g5x5VdOakaom",
        "colab_type": "code",
        "colab": {}
      },
      "source": [
        "# Fazendo a cópia da nossa tabela para uma nova variável\n",
        "\n",
        "b_aires_clean = b_aires.copy()"
      ],
      "execution_count": 0,
      "outputs": []
    },
    {
      "cell_type": "markdown",
      "metadata": {
        "id": "WQqnCWunktEs",
        "colab_type": "text"
      },
      "source": [
        "A partir de agora, vamos retirar tudo que nós quisermos dessa segunda tabela: **b_aires_clean**\n",
        "\n",
        "Mas como retiramos algum dado?\n",
        "\n",
        "Para isso, vamos utilizar o comando **drop()**\n",
        "\n",
        "Dessa maneira, chamamos o **drop()** e passamos os parâmetros que nós queremos retirar\n",
        "\n",
        "Não entendeu?\n",
        "\n",
        "Vamos por partes...\n",
        "\n",
        "A principio, nosso comando vai ficar assim:\n",
        "\n",
        "* b_aires_clean.drop(b_aires_clean[b_aires_clean.price > 6640].index, axis = 0, inplace = True)\n",
        "\n",
        "Agora vamos entender cada parte dele:\n",
        "\n",
        "* b_aires_clean.drop(...) - Isso é o que estamos chamando, nossos parâmetros vão ficar dentro dos () do comando **drop()**\n",
        "\n",
        "* (b_aires_clean[b_aires_clean.price > 6640].index) - A primeira coisa que temos que informar ao comando **drop** é de qual tabela ele vai retirar os dados, fazemos isso colocando \"b_aires_clean\"\n",
        "\n",
        "* Após isso informamos quais dados vão ser retirados de dentro dessa nossa tabela, no nosso caso será: **[b_aires_clean.price > 6640]**, ou seja, os dados com um valor maior que 6640 na coluna 'price'\n",
        "\n",
        "* Ao final, vem um \".index\", para informar ao **drop()** que o 'price' é uma coluna e queremos retirar as linhas que atendam a esse requisito (Caso essa informação não seja passada, o **drop()** vai procurar linhas com o nome 'price' e vai nos retornar um erro... Nós não gostamos de erros né?)\n",
        "\n",
        "* axis = 0 - Agora, vamos especificar que nós estamos nos referindo as linhas, e lembra que eu te pedi para decorar lá em cima que linhas são 0 e colunas são 1? Pois bem, vamos usar isso de novo\n",
        "\n",
        "* inplace = True - Por fim, vamos informar ao **drop()** que nós queremos que ele salve essas informações dentro da nossa própria variável **b_aires_clean**, caso não coloquemos esse parâmetro, seria necessário criar uma nova variável para salvar essas modificações que acabamos de fazer (Não é necessário né? Já criamos a **b_aires_clean** para isso)\n",
        "\n",
        "Entãaaao, como nós já entendemos cada parte desse comando\n",
        "\n",
        "Para retirar os outros dados que nós queremos, vamos seguir a mesma lógica\n",
        "\n",
        "Teremos:\n",
        "\n",
        "* Retirar os valores \"muito alto\" e \"muito baixo\" da coluna 'price'\n",
        "b_aires_clean.drop(b_aires_clean[b_aires_clean.price > 6640].index, axis = 0, inplace = True)\n",
        "b_aires_clean.drop(b_aires_clean[b_aires_clean.price < 400].index, axis = 0, inplace = True)\n",
        "\n",
        "* Retirar os valores maiores que 30 da coluna 'minimum_nights'\n",
        "b_aires_clean.drop(b_aires_clean[b_aires_clean.minimum_nights > 30].index, axis = 0, inplace = True)\n",
        "\n",
        "* Retirar os valores iguais a zero da coluna 'availability_365'\n",
        "b_aires_clean.drop(b_aires_clean[b_aires_clean.availability_365 == 0].index, axis = 0, inplace = True)\n",
        "\n",
        "Dessa forma, retiraremos todos os dados indesejados que encontramos anteriormente\n",
        "\n",
        "Mas, voce lembra que nós temos uma coluna que não contém valor nenhum?\n",
        "\n",
        "Ela está toda em branco... Então vamos retirar ela também\n",
        "\n",
        "Seguiremos a mesma lógica:\n",
        "\n",
        "* b_aires_clean.drop('neighbourhood_group', axis = 1, inplace = True)\n",
        "\n",
        "As mudanças são:\n",
        "\n",
        "* Como nós queremos retirar a coluna toda, é só colocarmos o nome da coluna primeiramente `'neighbourhood_group'`\n",
        "\n",
        "* Não precisamos do '.index' pois iremos retirar a coluna\n",
        "\n",
        "* Especificamos que queremos retirar a coluna com o 'axis = 1'\n"
      ]
    },
    {
      "cell_type": "code",
      "metadata": {
        "id": "y5m0yqbrlN-F",
        "colab_type": "code",
        "colab": {}
      },
      "source": [
        "# Retirar os valores \"muito alto\" e \"muito baixo\" da coluna 'price'\n",
        "b_aires_clean.drop(b_aires_clean[b_aires_clean.price > 6640].index, axis = 0, inplace = True)\n",
        "b_aires_clean.drop(b_aires_clean[b_aires_clean.price < 400].index, axis = 0, inplace = True)\n",
        "\n",
        "# Retirar os valores maiores que 30 da coluna 'minimum_nights'\n",
        "b_aires_clean.drop(b_aires_clean[b_aires_clean.minimum_nights > 30].index, axis = 0, inplace = True)\n",
        "\n",
        "# Retirar os valores iguais a zero da coluna 'availability_365'\n",
        "b_aires_clean.drop(b_aires_clean[b_aires_clean.availability_365 == 0].index, axis = 0, inplace = True)\n",
        "\n",
        "# Retirar a coluna 'neighbourhood_group' da nossa tabela\n",
        "b_aires_clean.drop('neighbourhood_group', axis = 1, inplace = True)\n"
      ],
      "execution_count": 0,
      "outputs": []
    },
    {
      "cell_type": "markdown",
      "metadata": {
        "id": "EoYeSyKdlNAQ",
        "colab_type": "text"
      },
      "source": [
        "Por fim, temos nosso **b_aires_clean** realmente *Clean*!\n",
        "\n",
        "Com todos os dados indesejados retirados e prontos para realizar novas análises"
      ]
    },
    {
      "cell_type": "markdown",
      "metadata": {
        "id": "f0Qoyy1-vN93",
        "colab_type": "text"
      },
      "source": [
        "A primeira coisa que vamos descobrir é:\n",
        "\n",
        "* Quantos dados nós retiramos?\n",
        "\n",
        "Já sabemos ver isso, vamos usar o **shape** para descobrir o tamanho da nossa tabela"
      ]
    },
    {
      "cell_type": "code",
      "metadata": {
        "id": "HZterUYovY6r",
        "colab_type": "code",
        "colab": {
          "base_uri": "https://localhost:8080/",
          "height": 35
        },
        "outputId": "fb82053f-3325-4a38-939e-80f0b26b2402"
      },
      "source": [
        "# Verificar o tamanho da nossa tabela\n",
        "b_aires_clean.shape"
      ],
      "execution_count": 76,
      "outputs": [
        {
          "output_type": "execute_result",
          "data": {
            "text/plain": [
              "(18671, 15)"
            ]
          },
          "metadata": {
            "tags": []
          },
          "execution_count": 76
        }
      ]
    },
    {
      "cell_type": "markdown",
      "metadata": {
        "id": "fmsOueUcvvDh",
        "colab_type": "text"
      },
      "source": [
        "Uau, temos 18671 linhas em nossa tabela\n",
        "\n",
        "Mas... Em relação a tabela original **b_aires**, nossa tabela *Clean* perdeu muitos dados?\n",
        "\n",
        "Vamos verificar isso com a porcentagem, igual fizemos lá em cima\n",
        "\n",
        "Vamos utilizar o **shape[0]** das duas tabelas, pois é a quantidade de linhas das tabelas\n",
        "\n",
        "Teremos:\n",
        "\n",
        "* ((b_aires_clean.shape[0] / b_aires.shape[0]) * 100)"
      ]
    },
    {
      "cell_type": "code",
      "metadata": {
        "id": "HlhRn93-wGAe",
        "colab_type": "code",
        "colab": {
          "base_uri": "https://localhost:8080/",
          "height": 35
        },
        "outputId": "aaf0f9ea-a8e2-4c06-e9d7-282972e556cd"
      },
      "source": [
        "# Verificar a porcentagem entre nossas duas tabelas\n",
        "\n",
        "((b_aires_clean.shape[0] / b_aires.shape[0]) * 100)"
      ],
      "execution_count": 77,
      "outputs": [
        {
          "output_type": "execute_result",
          "data": {
            "text/plain": [
              "78.68431033756164"
            ]
          },
          "metadata": {
            "tags": []
          },
          "execution_count": 77
        }
      ]
    },
    {
      "cell_type": "markdown",
      "metadata": {
        "id": "HzC8-TJ5xESM",
        "colab_type": "text"
      },
      "source": [
        "Podemos ver que ainda temos aproximadamente 78,7% dos nossos dados aqui\n",
        "\n",
        "Isso quer dizer entao que 21,3% dos dados eram *outliers*, segundo nossos parametros"
      ]
    },
    {
      "cell_type": "markdown",
      "metadata": {
        "id": "KsyuhjJWx4K7",
        "colab_type": "text"
      },
      "source": [
        "Agora me surgiu uma dúvida...\n",
        "\n",
        "Como será a distribuição desses dados de forma gráfica?\n",
        "\n",
        "Será que fica parecido com os gráficos que fizemos lá em cima?\n",
        "\n",
        "Vamos ver!"
      ]
    },
    {
      "cell_type": "code",
      "metadata": {
        "id": "fAL65jtSyHni",
        "colab_type": "code",
        "colab": {
          "base_uri": "https://localhost:8080/",
          "height": 879
        },
        "outputId": "b09ccaea-0021-47bd-de04-c76ef80199df"
      },
      "source": [
        "# Plotar os histogramas dos nossos dados Clean\n",
        "\n",
        "b_aires_clean.hist(bins = 30, figsize = (20, 15));"
      ],
      "execution_count": 78,
      "outputs": [
        {
          "output_type": "display_data",
          "data": {
            "image/png": "[encoded data removed]",
            "text/plain": [
              "<Figure size 1440x1080 with 12 Axes>"
            ]
          },
          "metadata": {
            "tags": [],
            "needs_background": "light"
          }
        }
      ]
    },
    {
      "cell_type": "markdown",
      "metadata": {
        "id": "u0C9TZ77yqXF",
        "colab_type": "text"
      },
      "source": [
        "Agora sim!\n",
        "\n",
        "As colunas **price** e **minimum_nights** ficaram muito mais faceis de se visualizar\n",
        "\n",
        "Vamos prosseguir com nossas análises"
      ]
    },
    {
      "cell_type": "markdown",
      "metadata": {
        "id": "HE6eHmLc5s4K",
        "colab_type": "text"
      },
      "source": [
        "### Correlação dos dados"
      ]
    },
    {
      "cell_type": "markdown",
      "metadata": {
        "id": "JrlbYyLAzDa9",
        "colab_type": "text"
      },
      "source": [
        "Uma coisa importante para saber, é se nossos dados tem alguma correlação entre as colunas\n",
        "\n",
        "Ter correlação significa que o valor de uma coluna influencia diretamente o valor de outra, tanto de forma positiva quanto de forma negativa (Por exemplo, o tempo que você deixa as luzes da sua casa acesa, influencia diretamente no valor da sua conta de luz - Isso é triste, mas é real)\n",
        "\n",
        "Mas como nós verificamos a correlação entre nossas colunas?\n",
        "\n",
        "Para essa tarefa, vamos chamar a função **corr()**\n",
        "\n",
        "Então teremos:\n",
        "\n",
        "* b_aires_clean.corr()\n",
        "\n",
        "Simples, né?\n",
        "\n",
        "Vamos gravar esse resultado em uma variável chamada *corr_ba* (O nome aqui não importa, mas significa \"Correlação Buenos Aires\", você pode dar o nome que quiser)"
      ]
    },
    {
      "cell_type": "code",
      "metadata": {
        "id": "bkvrP5_M0dKx",
        "colab_type": "code",
        "colab": {
          "base_uri": "https://localhost:8080/",
          "height": 383
        },
        "outputId": "807653d7-ff94-4459-912b-738c8604456d"
      },
      "source": [
        "# Realixar a matriz de correlação dos nossos dados\n",
        "corr_ba = b_aires_clean.corr()\n",
        "\n",
        "# Mostrar a matriz\n",
        "corr_ba"
      ],
      "execution_count": 79,
      "outputs": [
        {
          "output_type": "execute_result",
          "data": {
            "text/html": [
              "<div>\n",
              "<style scoped>\n",
              "    .dataframe tbody tr th:only-of-type {\n",
              "        vertical-align: middle;\n",
              "    }\n",
              "\n",
              "    .dataframe tbody tr th {\n",
              "        vertical-align: top;\n",
              "    }\n",
              "\n",
              "    .dataframe thead th {\n",
              "        text-align: right;\n",
              "    }\n",
              "</style>\n",
              "<table border=\"1\" class=\"dataframe\">\n",
              "  <thead>\n",
              "    <tr style=\"text-align: right;\">\n",
              "      <th></th>\n",
              "      <th>id</th>\n",
              "      <th>host_id</th>\n",
              "      <th>latitude</th>\n",
              "      <th>longitude</th>\n",
              "      <th>price</th>\n",
              "      <th>minimum_nights</th>\n",
              "      <th>number_of_reviews</th>\n",
              "      <th>reviews_per_month</th>\n",
              "      <th>calculated_host_listings_count</th>\n",
              "      <th>availability_365</th>\n",
              "    </tr>\n",
              "  </thead>\n",
              "  <tbody>\n",
              "    <tr>\n",
              "      <th>id</th>\n",
              "      <td>1.000000</td>\n",
              "      <td>0.514781</td>\n",
              "      <td>0.004495</td>\n",
              "      <td>-0.036254</td>\n",
              "      <td>-0.119784</td>\n",
              "      <td>-0.049369</td>\n",
              "      <td>-0.379507</td>\n",
              "      <td>0.180580</td>\n",
              "      <td>-0.015103</td>\n",
              "      <td>-0.192594</td>\n",
              "    </tr>\n",
              "    <tr>\n",
              "      <th>host_id</th>\n",
              "      <td>0.514781</td>\n",
              "      <td>1.000000</td>\n",
              "      <td>-0.068087</td>\n",
              "      <td>-0.008644</td>\n",
              "      <td>-0.128083</td>\n",
              "      <td>-0.088182</td>\n",
              "      <td>-0.190039</td>\n",
              "      <td>0.119717</td>\n",
              "      <td>-0.175336</td>\n",
              "      <td>-0.131867</td>\n",
              "    </tr>\n",
              "    <tr>\n",
              "      <th>latitude</th>\n",
              "      <td>0.004495</td>\n",
              "      <td>-0.068087</td>\n",
              "      <td>1.000000</td>\n",
              "      <td>-0.542824</td>\n",
              "      <td>0.138711</td>\n",
              "      <td>0.032101</td>\n",
              "      <td>0.016903</td>\n",
              "      <td>0.028815</td>\n",
              "      <td>0.024025</td>\n",
              "      <td>-0.011137</td>\n",
              "    </tr>\n",
              "    <tr>\n",
              "      <th>longitude</th>\n",
              "      <td>-0.036254</td>\n",
              "      <td>-0.008644</td>\n",
              "      <td>-0.542824</td>\n",
              "      <td>1.000000</td>\n",
              "      <td>0.062490</td>\n",
              "      <td>-0.023134</td>\n",
              "      <td>0.064427</td>\n",
              "      <td>0.053488</td>\n",
              "      <td>0.043281</td>\n",
              "      <td>0.035953</td>\n",
              "    </tr>\n",
              "    <tr>\n",
              "      <th>price</th>\n",
              "      <td>-0.119784</td>\n",
              "      <td>-0.128083</td>\n",
              "      <td>0.138711</td>\n",
              "      <td>0.062490</td>\n",
              "      <td>1.000000</td>\n",
              "      <td>-0.030622</td>\n",
              "      <td>0.031533</td>\n",
              "      <td>-0.010926</td>\n",
              "      <td>0.152592</td>\n",
              "      <td>0.093237</td>\n",
              "    </tr>\n",
              "    <tr>\n",
              "      <th>minimum_nights</th>\n",
              "      <td>-0.049369</td>\n",
              "      <td>-0.088182</td>\n",
              "      <td>0.032101</td>\n",
              "      <td>-0.023134</td>\n",
              "      <td>-0.030622</td>\n",
              "      <td>1.000000</td>\n",
              "      <td>-0.103908</td>\n",
              "      <td>-0.158128</td>\n",
              "      <td>0.092688</td>\n",
              "      <td>0.023279</td>\n",
              "    </tr>\n",
              "    <tr>\n",
              "      <th>number_of_reviews</th>\n",
              "      <td>-0.379507</td>\n",
              "      <td>-0.190039</td>\n",
              "      <td>0.016903</td>\n",
              "      <td>0.064427</td>\n",
              "      <td>0.031533</td>\n",
              "      <td>-0.103908</td>\n",
              "      <td>1.000000</td>\n",
              "      <td>0.617626</td>\n",
              "      <td>-0.067463</td>\n",
              "      <td>0.020986</td>\n",
              "    </tr>\n",
              "    <tr>\n",
              "      <th>reviews_per_month</th>\n",
              "      <td>0.180580</td>\n",
              "      <td>0.119717</td>\n",
              "      <td>0.028815</td>\n",
              "      <td>0.053488</td>\n",
              "      <td>-0.010926</td>\n",
              "      <td>-0.158128</td>\n",
              "      <td>0.617626</td>\n",
              "      <td>1.000000</td>\n",
              "      <td>-0.101441</td>\n",
              "      <td>-0.114440</td>\n",
              "    </tr>\n",
              "    <tr>\n",
              "      <th>calculated_host_listings_count</th>\n",
              "      <td>-0.015103</td>\n",
              "      <td>-0.175336</td>\n",
              "      <td>0.024025</td>\n",
              "      <td>0.043281</td>\n",
              "      <td>0.152592</td>\n",
              "      <td>0.092688</td>\n",
              "      <td>-0.067463</td>\n",
              "      <td>-0.101441</td>\n",
              "      <td>1.000000</td>\n",
              "      <td>0.054733</td>\n",
              "    </tr>\n",
              "    <tr>\n",
              "      <th>availability_365</th>\n",
              "      <td>-0.192594</td>\n",
              "      <td>-0.131867</td>\n",
              "      <td>-0.011137</td>\n",
              "      <td>0.035953</td>\n",
              "      <td>0.093237</td>\n",
              "      <td>0.023279</td>\n",
              "      <td>0.020986</td>\n",
              "      <td>-0.114440</td>\n",
              "      <td>0.054733</td>\n",
              "      <td>1.000000</td>\n",
              "    </tr>\n",
              "  </tbody>\n",
              "</table>\n",
              "</div>"
            ],
            "text/plain": [
              "                                      id  ...  availability_365\n",
              "id                              1.000000  ...         -0.192594\n",
              "host_id                         0.514781  ...         -0.131867\n",
              "latitude                        0.004495  ...         -0.011137\n",
              "longitude                      -0.036254  ...          0.035953\n",
              "price                          -0.119784  ...          0.093237\n",
              "minimum_nights                 -0.049369  ...          0.023279\n",
              "number_of_reviews              -0.379507  ...          0.020986\n",
              "reviews_per_month               0.180580  ...         -0.114440\n",
              "calculated_host_listings_count -0.015103  ...          0.054733\n",
              "availability_365               -0.192594  ...          1.000000\n",
              "\n",
              "[10 rows x 10 columns]"
            ]
          },
          "metadata": {
            "tags": []
          },
          "execution_count": 79
        }
      ]
    },
    {
      "cell_type": "markdown",
      "metadata": {
        "id": "1jVZk1C61vNc",
        "colab_type": "text"
      },
      "source": [
        "Bom, vemos que o resultado é uma tabela bem feia e estranha...\n",
        "\n",
        "Vamos deixar isso mais bonito?\n",
        "\n",
        "Faremos um **heatmap**, que é basicamente um gráfico que exemplifica uma matriz de correlação de forma bem mais bonita (Colorido!)\n",
        "\n",
        "Para conseguirmos realizar essa etapa, vamos utilizar nosso querido **Seaborn**\n",
        "\n",
        "Vamos passar os seguintes dados:\n",
        "\n",
        "* sns.heatmap(corr_ba, cmap='RdBu', fmt='.2f', annot=True);\n",
        "\n",
        "Em que:\n",
        "\n",
        "* `corr_ba` - É a nossa matriz de correlação, que criamos na etapa anterior\n",
        "\n",
        "* `cmap` - É o mapa de cores que vamos utilizar, esse 'RdBu' é bem bonitinho, mas você pode pesquisar na internet os diferentes mapas de cores que existem e testar\n",
        "\n",
        "* `fmt` - É a formatação que iremos utilizar, como você viu na nossa matriz, os numero decimais estão com 6 casas depois da vírgula, vamos arrendondar isso para apenas 2 casas com o comando '.2f' (Beleza é tudo, né?)\n",
        "\n",
        "* `annot` - É para decidir se queremos que os valores sejam escritos no meio dos quadradinhos, isso pode deixar bonito! Ou não...\n",
        "\n",
        "Vamos lá!"
      ]
    },
    {
      "cell_type": "code",
      "metadata": {
        "id": "Fkaucfre1u1t",
        "colab_type": "code",
        "colab": {
          "base_uri": "https://localhost:8080/",
          "height": 411
        },
        "outputId": "e3327d8e-6023-4556-a358-5ed94755bcd1"
      },
      "source": [
        "# Plotar nosso heatmap\n",
        "\n",
        "sns.heatmap(corr_ba, cmap= 'RdBu', fmt='.2f', annot=True);"
      ],
      "execution_count": 80,
      "outputs": [
        {
          "output_type": "display_data",
          "data": {
            "image/png": "[encoded data removed]",
            "text/plain": [
              "<Figure size 432x288 with 2 Axes>"
            ]
          },
          "metadata": {
            "tags": [],
            "needs_background": "light"
          }
        }
      ]
    },
    {
      "cell_type": "markdown",
      "metadata": {
        "id": "8JPn7n-A-A8m",
        "colab_type": "text"
      },
      "source": [
        "Como podemos ver, não há nenhuma correlação clara e informativa entre nossas colunas\n",
        "\n",
        "Não conseguimos extrair nenhuma informação válida dos nossos dados, a partir dessa correlação...\n",
        "\n",
        "Maaas, serviu de aprendizado!"
      ]
    },
    {
      "cell_type": "markdown",
      "metadata": {
        "id": "XwhrAv0l5xP8",
        "colab_type": "text"
      },
      "source": [
        "### Perguntas a serem respondidas"
      ]
    },
    {
      "cell_type": "markdown",
      "metadata": {
        "id": "kJAP1b8m-54p",
        "colab_type": "text"
      },
      "source": [
        "Agora, vamos tentar responder algumas perguntas sobre nossos dados, o que acha?\n",
        "\n",
        "Eu ouvi dizer que os anfitriões do Airbnb disponibilizam diferentes tipos de quartos, podendo ser até quartos de hotel (Uau!)\n",
        "\n",
        "Entao, vamos fazer algumas perguntas referentes a isso:\n",
        "\n",
        "* Quais os tipos de imóveis disponiveis em Buenos Aires e Quantos imóveis de cada tipo estão disponiveis para locação?\n",
        "\n",
        "* Quais os valores médios desses imóveis?\n",
        "\n",
        "* Há diferenças na quantidades de noites mínimas para cada tipo de quarto?\n",
        "\n",
        "* Quais são os bairros mais caros de Buenos Aires?\n",
        "\n",
        "* Quantos imóveis estão disponiveis para alugar em cada Bairro?\n",
        "\n",
        "Poderiamos fazer mais mil perguntas em cima desses dados, mas vamos focar somente nessas por enquanto\n",
        "\n",
        "Vamos lá! Uma por uma"
      ]
    },
    {
      "cell_type": "markdown",
      "metadata": {
        "id": "y2kmKmvwClbT",
        "colab_type": "text"
      },
      "source": [
        "#### Quais os tipos de imóveis disponiveis em Buenos Aires e Quantos imóveis de cada tipo estão disponiveis para locação?"
      ]
    },
    {
      "cell_type": "markdown",
      "metadata": {
        "id": "5JkCJj3EDgM6",
        "colab_type": "text"
      },
      "source": [
        "Para responder essa pergunta, vamos contar a quantidade de quartos diferentes através da nossa coluna 'room_type'\n",
        "\n",
        "Vamos matar dois coelhos com uma cajadada só! (Mentira gente, não vamos matar nada não, é apenas uma expressão popular! Obs: Coelhos são fofos)\n",
        "\n",
        "Contando a quantidade de quartos diferentes, já saberemos quais são esses dados diferentes e quais as quantidades de cada um (Meio óbvio, mas ok... Se vamos contar, teremos as quantidades)\n",
        "\n",
        "Vamos fazer essa contagem através da função **value_counts()**\n",
        "\n",
        "Essa é uma função que soma quantas linhas de um determinado tipo nós temos\n",
        "\n",
        "Então, vamos chamar nossa tabela, a coluna que queremos e a função\n",
        "\n",
        "Teremos:\n",
        "\n",
        "* b_aires_clean.room_type.value_counts()"
      ]
    },
    {
      "cell_type": "code",
      "metadata": {
        "id": "pET7yU_gFSkG",
        "colab_type": "code",
        "colab": {
          "base_uri": "https://localhost:8080/",
          "height": 109
        },
        "outputId": "c7611b88-98a3-4598-b2b1-baf0a47e7a65"
      },
      "source": [
        "#Verificando a quantidade de quartos e quais são eles\n",
        "\n",
        "b_aires_clean.room_type.value_counts()"
      ],
      "execution_count": 81,
      "outputs": [
        {
          "output_type": "execute_result",
          "data": {
            "text/plain": [
              "Entire home/apt    14579\n",
              "Private room        3473\n",
              "Shared room          397\n",
              "Hotel room           222\n",
              "Name: room_type, dtype: int64"
            ]
          },
          "metadata": {
            "tags": []
          },
          "execution_count": 81
        }
      ]
    },
    {
      "cell_type": "markdown",
      "metadata": {
        "id": "Xjgr61GxFeqW",
        "colab_type": "text"
      },
      "source": [
        "Então, através disso podemos perceber que:\n",
        "\n",
        "* Há 4 tipos diferentes de imóveis:\n",
        "\n",
        "    * Casa/apartamento inteiro (Isso mesmo, uma casa inteira só para você!)\n",
        "    * Quarto privado (Você vai ficar na casa de alguém, mas o quarto é todinho seu)\n",
        "    * Quarto compartilhado (Você vai ficar na casa de alguém, e vai dividir seu quarto provavelmente com um desconhecido... É... Pode até ser uma experiência bacana)\n",
        "    * Quarto de hotel (Você fica em um hotel, pagando o preço do Airbnb, uau! - *Só não sendo aquele quarto de 600.000 Pesos Argentinos, ta ótimo...*)\n",
        "\n",
        "* A maioria dos imóveis disponiveis para locação são Apartamentos ou Casas inteiras\n",
        "\n",
        "* Quartos de hotel e quartos compartilhados não são muito populares em Buenos Aires..."
      ]
    },
    {
      "cell_type": "markdown",
      "metadata": {
        "id": "rihqdzK2C2qa",
        "colab_type": "text"
      },
      "source": [
        "#### *Quais* os valores médios desses imóveis?"
      ]
    },
    {
      "cell_type": "markdown",
      "metadata": {
        "id": "2asFmgGuHULJ",
        "colab_type": "text"
      },
      "source": [
        "Para prosseguir com a resposta dessa pergunta, vamos ter que aprender uma função nova, a **groupby()**\n",
        "\n",
        "Como o nome sugere, ela agrupa nossos dados de acordo com uma coluna específica e depois nós podemos separar esses dados passando outros critérios e filtros\n",
        "\n",
        "Então vamos lá, parte por parte\n",
        "\n",
        "Nossa expressão ficará assim:\n",
        "\n",
        "* b_aires_clean.groupby(['room_type']).price.mean().sort_values(ascending = False)\n",
        "\n",
        "Agora vamos entende-la:\n",
        "\n",
        "* Primeiramente, chamamos nossa tabela **b_aires_clean**\n",
        "\n",
        "* Depois nós chamamos a função que vai agrupar nossos dados de acordo com alguma coluna específica **.groupby()**\n",
        "\n",
        "* Passamos a coluna que nós queremos que ele agrupe os dados, como queremos saber a média dos preços dos quartos, vamos agrupar pelos quartos e depois pegar a média de cada tipo\n",
        "\n",
        "  * Então passamos dentro do \".groupby()\" nossa coluna **[room_type]**\n",
        "\n",
        "* Agora precisamos da média dos valores desses quartos, que está na coluna **price**\n",
        "\n",
        "   * Então passamos a expressão que calcula a média desses valores **.price.mean()**\n",
        "\n",
        "Como nós já agrupamos os dados por cada tipo de quarto, será calculada a média separadamente para cada tipo\n",
        "\n",
        "Muito fácil!\n",
        "\n",
        "Eu já disse que o Pandas é incrível? Pois ele é!\n",
        "\n",
        "Por fim, caso nós sejamos tentados a deixar tudo bonito (E nós vamos ser), passamos o **.sort_values(ascending = False)** no final, assim nossos dados serão mostrados do maior para o menor \n",
        "\n",
        "Vamos lá!"
      ]
    },
    {
      "cell_type": "code",
      "metadata": {
        "id": "acuRMgFnIup-",
        "colab_type": "code",
        "colab": {
          "base_uri": "https://localhost:8080/",
          "height": 127
        },
        "outputId": "a87ba412-67e2-45ed-9258-79f82c1838e5"
      },
      "source": [
        "# Agrupar nossos dados pelos tipos de quarto e calcular a média dos mesmos\n",
        "\n",
        "b_aires_clean.groupby(['room_type']).price.mean().sort_values(ascending = False)"
      ],
      "execution_count": 82,
      "outputs": [
        {
          "output_type": "execute_result",
          "data": {
            "text/plain": [
              "room_type\n",
              "Hotel room         2786.414414\n",
              "Entire home/apt    2723.801907\n",
              "Private room       1445.029945\n",
              "Shared room        1072.133501\n",
              "Name: price, dtype: float64"
            ]
          },
          "metadata": {
            "tags": []
          },
          "execution_count": 82
        }
      ]
    },
    {
      "cell_type": "markdown",
      "metadata": {
        "id": "S45Bv3vALA6N",
        "colab_type": "text"
      },
      "source": [
        "O que podemos observar?\n",
        "\n",
        "* Apesar dos quartos de hotel serem os menos populares em Buenos Aires, eles são os mais caros!\n",
        "\n",
        "* Os quartos privados, que ficam com o segundo lugar no quesito \"Quantidade\", são quase a metade do preço dos quartos de hotel e casas/apartamentos inteiros\n",
        "\n",
        "* Quartos compartilhados são uma opção muito barata caso você esteja com a carteira apertada"
      ]
    },
    {
      "cell_type": "markdown",
      "metadata": {
        "id": "8z3FNpc9C-EJ",
        "colab_type": "text"
      },
      "source": [
        "#### Há diferenças na quantidades de noites mínimas para cada tipo de quarto?"
      ]
    },
    {
      "cell_type": "markdown",
      "metadata": {
        "id": "5zO1MfS4M4JM",
        "colab_type": "text"
      },
      "source": [
        "Seguindo a mesma lógica da pergunta anterior, agora nós queremos saber: para cada tipo de quarto, qual a quantidade média de noites minimas?\n",
        "\n",
        "Então, vamos agrupar novamente nossos dados pela coluna **room_type**\n",
        "\n",
        "E vamos passar a média da coluna **minimum_nights** para separar cada tipo de quarto\n",
        "\n",
        "Igualzinho no exemplo anterior!\n",
        "\n",
        "Teremos:\n",
        "\n",
        "* b_aires_clean.groupby(['room_type']).minimum_nights.mean().sort_values(ascending = False)\n",
        "\n",
        "Vamos lá!"
      ]
    },
    {
      "cell_type": "code",
      "metadata": {
        "id": "hsBkXNtLM3ta",
        "colab_type": "code",
        "colab": {
          "base_uri": "https://localhost:8080/",
          "height": 127
        },
        "outputId": "b28ba04d-345e-4278-c735-44b83af67ef8"
      },
      "source": [
        "# Agrupar os dados pelos tipos de quarto e verificar a média de noites mínimas\n",
        "\n",
        "b_aires_clean.groupby(['room_type']).minimum_nights.mean().sort_values(ascending = False)"
      ],
      "execution_count": 83,
      "outputs": [
        {
          "output_type": "execute_result",
          "data": {
            "text/plain": [
              "room_type\n",
              "Entire home/apt    4.333013\n",
              "Private room       3.898071\n",
              "Shared room        2.675063\n",
              "Hotel room         2.612613\n",
              "Name: minimum_nights, dtype: float64"
            ]
          },
          "metadata": {
            "tags": []
          },
          "execution_count": 83
        }
      ]
    },
    {
      "cell_type": "markdown",
      "metadata": {
        "id": "NH8kET1KPOol",
        "colab_type": "text"
      },
      "source": [
        "Primeiramente, precisamos observar que não existem noites \"picadas\", ou seja, não existe  \"2.67\" noites... Ou são 2 noites ou são 3 noites\n",
        "\n",
        "Tendo isso em vista, com um arredondameto simples, temos que:\n",
        "  * Casa/Apartamento inteiro: 4 noites\n",
        "  * Quarto privado:           4 noites\n",
        "  * Quarto compartilhado:     3 noites\n",
        "  * Quarto de hotel:          3 noites\n",
        "\n",
        "Então, podemos ver que, em média:\n",
        "\n",
        "* Não há uma diferença grande de noites minimas exigidas entre os diferentes tipos de quarto \n",
        "\n",
        "* As casas/apartamentos completos e os quartos privados, exigem que você fique um pouco mais tempo (Isso é, uma diária a mais, deixa mais caro né?)\n",
        "\n",
        "* A principal diferença entre o quarto compartilhado e o quarto de hotel é preço (E muito...)"
      ]
    },
    {
      "cell_type": "markdown",
      "metadata": {
        "id": "9dxiR9wsC6xH",
        "colab_type": "text"
      },
      "source": [
        "#### Quais são os bairros mais caros de Buenos Aires?"
      ]
    },
    {
      "cell_type": "markdown",
      "metadata": {
        "id": "dDLsKy6fR_zZ",
        "colab_type": "text"
      },
      "source": [
        "Como o **groupby** é uma \"mão na roda\" e extremamente poderoso, nós podemos (E vamos) usar ele em praticamente toda análise\n",
        "\n",
        "Para responder essa pergunta, vamos seguir a mesma lógica das outras duas perguntas feitas:\n",
        "\n",
        "* Agrupar nossos dados a partir de uma coluna específica (Nesse caso, os bairros, ou *neighbourhood*)\n",
        "\n",
        "* Dividir esses dados pela média dos preços desse local (Nesse caso *.price.mean()*, igual o primeiro!)\n",
        "\n",
        "Teremos:\n",
        "\n",
        "* b_aires_clean.groupby(['neighbourhood']).price.mean().sort_values(ascending = False)"
      ]
    },
    {
      "cell_type": "code",
      "metadata": {
        "id": "XrXiX4DzS8_v",
        "colab_type": "code",
        "colab": {
          "base_uri": "https://localhost:8080/",
          "height": 935
        },
        "outputId": "331c7ab5-ee2d-4a5a-8da1-435fa61f6c9e"
      },
      "source": [
        "# Verificar quais são os bairros mais caros de Buenos Aires\n",
        "\n",
        "b_aires_clean.groupby(['neighbourhood']).price.mean().sort_values(ascending = False)"
      ],
      "execution_count": 84,
      "outputs": [
        {
          "output_type": "execute_result",
          "data": {
            "text/plain": [
              "neighbourhood\n",
              "Puerto Madero        3966.006993\n",
              "Villa Soldati        3761.666667\n",
              "Palermo              2821.959108\n",
              "Retiro               2670.495992\n",
              "Recoleta             2668.466879\n",
              "Versalles            2588.571429\n",
              "Belgrano             2380.204465\n",
              "San Nicolas          2372.478112\n",
              "San Telmo            2363.080342\n",
              "Nuñez                2346.164420\n",
              "Villa Devoto         2336.454545\n",
              "Coghlan              2269.791045\n",
              "Monserrat            2251.345209\n",
              "Colegiales           2229.218289\n",
              "Chacarita            2159.637771\n",
              "Barracas             2145.782946\n",
              "Villa Real           2124.000000\n",
              "Liniers              1973.666667\n",
              "Floresta             1964.088235\n",
              "Villa Urquiza        1925.748571\n",
              "Villa Ortuzar        1925.015625\n",
              "Velez Sarsfield      1905.705882\n",
              "Almagro              1894.844595\n",
              "Villa Crespo         1882.477346\n",
              "Parque Chas          1858.684211\n",
              "Agronomia            1858.636364\n",
              "Balvanera            1845.246502\n",
              "Constitucion         1816.410853\n",
              "Monte Castro         1806.428571\n",
              "San Cristobal        1791.675214\n",
              "Caballito            1787.279762\n",
              "Flores               1642.680000\n",
              "Villa Pueyrredon     1640.718750\n",
              "Boca                 1627.214953\n",
              "Saavedra             1604.773196\n",
              "Parque Chacabuco     1580.121951\n",
              "Villa Luro           1551.562500\n",
              "Boedo                1549.879518\n",
              "Nueva Pompeya        1540.100000\n",
              "Villa Del Parque     1537.511628\n",
              "Villa Gral. Mitre    1377.350000\n",
              "Parque Patricios     1354.145455\n",
              "Parque Avellaneda    1342.444444\n",
              "Villa Santa Rita     1330.809524\n",
              "Villa Riachuelo      1294.500000\n",
              "Paternal             1292.857143\n",
              "Mataderos            1269.500000\n",
              "Villa Lugano         1062.000000\n",
              "Name: price, dtype: float64"
            ]
          },
          "metadata": {
            "tags": []
          },
          "execution_count": 84
        }
      ]
    },
    {
      "cell_type": "markdown",
      "metadata": {
        "id": "8qrOkmGbS8Sa",
        "colab_type": "text"
      },
      "source": [
        "Bom, são muitos bairros...\n",
        "\n",
        "Mas como nossa pergunta é: \"Quais são os bairros mais caros?\"\n",
        "\n",
        "Vamos focar nos 5 primeiros, que são:\n",
        "\n",
        "* Puerto Madero -       3966,00 Pesos Argentinos\n",
        "* Villa Soldati -       3761,70 Pesos Argentinos\n",
        "* Palermo       -       2821,96 Pesos Argentinos\n",
        "* Retiro        -       2670,50 Pesos Argentinos\n",
        "* Recoleta      -       2668,47 Pesos Argentinos\n",
        "\n",
        "Mas... Eu nunca fui para Buenos Aires\n",
        "\n",
        "Será que esses bairros realmente são os mais caros?\n",
        "\n",
        "Com uma pesquisa rápida na internet, chegamos a conclusão que: SIM!\n",
        "\n",
        "Exceto pela \"Villa Soldati\", no qual não ouvi falar muito\n",
        "\n",
        "Esses são realmente os bairros mais caros de Buenos Aires (Da uma olhada: https://aguiarbuenosaires.com/bairros-de-buenos-aires/ e https://olaargentina.com/alugar-10000-pesos-em-buenos-aires/)\n",
        "\n",
        "E, aparentemente, além de caros eles são extremamente bonitos e turistáveis\n",
        "\n",
        "Creio que você não vai se arrepender de ficar nesses bairros durante sua viagem! (Sua carteira talvez se arrependa depois, mas o dinheiro tá ai para ser gasto né? Brincadeira, economiza)"
      ]
    },
    {
      "cell_type": "markdown",
      "metadata": {
        "id": "ybXmi25yDEJK",
        "colab_type": "text"
      },
      "source": [
        "#### Quantos imóveis estão disponiveis para alugar em cada Bairro?"
      ]
    },
    {
      "cell_type": "markdown",
      "metadata": {
        "id": "fHlmnyN_XZV5",
        "colab_type": "text"
      },
      "source": [
        "Por fim, para responder nossa última pergunta\n",
        "\n",
        "Vamos utilizar a função - *adivinha* - se você disse: **groupby()**, desculpe, mas você errou!!\n",
        "\n",
        "Nós não iremos precisar dela agora\n",
        "\n",
        "Vamos ultilizar a função **value_counts**, pois queremos contar a quantidade de linhas que cada bairro tem\n",
        "\n",
        "Mas, vamos seguir novamente a mesma lógica:\n",
        "\n",
        "* Queremos saber: A quantidade de imóveis por bairro\n",
        "\n",
        "Então:\n",
        "\n",
        "* Temos que escolher a coluna que estão os bairros em nossa tabela\n",
        "\n",
        "* Realizar a contagem de imóveis disponiveis\n",
        "\n",
        "Então nós teremos:\n",
        "\n",
        "* b_aires_clean.neighbourhood.value_counts()\n",
        "\n",
        "Vamos lá!"
      ]
    },
    {
      "cell_type": "code",
      "metadata": {
        "id": "CWMZJJ7bZYfm",
        "colab_type": "code",
        "colab": {
          "base_uri": "https://localhost:8080/",
          "height": 917
        },
        "outputId": "a7884a81-32d8-45e3-f083-8ad2918c8ae8"
      },
      "source": [
        "# Contar a quantidade de imóveis em cada bairro\n",
        "\n",
        "b_aires_clean.neighbourhood.value_counts()"
      ],
      "execution_count": 85,
      "outputs": [
        {
          "output_type": "execute_result",
          "data": {
            "text/plain": [
              "Palermo              5649\n",
              "Recoleta             3140\n",
              "San Nicolas          1165\n",
              "Retiro                998\n",
              "Balvanera             929\n",
              "Belgrano              851\n",
              "Monserrat             814\n",
              "Almagro               740\n",
              "Villa Crespo          618\n",
              "San Telmo             585\n",
              "Nuñez                 371\n",
              "Colegiales            339\n",
              "Caballito             336\n",
              "Chacarita             323\n",
              "Constitucion          258\n",
              "Villa Urquiza         175\n",
              "Puerto Madero         143\n",
              "Barracas              129\n",
              "San Cristobal         117\n",
              "Boca                  107\n",
              "Saavedra               97\n",
              "Boedo                  83\n",
              "Flores                 75\n",
              "Coghlan                67\n",
              "Villa Ortuzar          64\n",
              "Villa Devoto           55\n",
              "Parque Patricios       55\n",
              "Villa Del Parque       43\n",
              "Parque Chacabuco       41\n",
              "Parque Chas            38\n",
              "Floresta               34\n",
              "Villa Pueyrredon       32\n",
              "Agronomia              22\n",
              "Villa Santa Rita       21\n",
              "Paternal               21\n",
              "Villa Gral. Mitre      20\n",
              "Velez Sarsfield        17\n",
              "Villa Luro             16\n",
              "Liniers                15\n",
              "Monte Castro           14\n",
              "Versalles              14\n",
              "Nueva Pompeya          10\n",
              "Parque Avellaneda       9\n",
              "Mataderos               8\n",
              "Villa Real              7\n",
              "Villa Soldati           3\n",
              "Villa Riachuelo         2\n",
              "Villa Lugano            1\n",
              "Name: neighbourhood, dtype: int64"
            ]
          },
          "metadata": {
            "tags": []
          },
          "execution_count": 85
        }
      ]
    },
    {
      "cell_type": "markdown",
      "metadata": {
        "id": "xxKD6KC0bUrc",
        "colab_type": "text"
      },
      "source": [
        "Logo de cara, podemos perceber que:\n",
        "\n",
        "* 3 dos bairros mais caros de Buenos Aires estão presentes, também, como os bairros que tem mais imóveis disponiveis para alugar\n",
        "\n",
        "Mas, olhando um pouco mais, vemos que:\n",
        "\n",
        "* Puerto Madero, o bairro mais caro e luxuoso, possui apenas 143 imóveis para aluguel\n",
        "\n",
        "* Villa Soldati, o segundo bairro mais caro (segundo nossas análises), possui apenas 3 imóveis para alugar (São poucos, mas são bem caros... Que tal dar uma olhadinha nesses imóveis?)"
      ]
    },
    {
      "cell_type": "markdown",
      "metadata": {
        "id": "onjw_dfmcq9w",
        "colab_type": "text"
      },
      "source": [
        "##### Dando uma olhada em Villa Soldati\n",
        "\n",
        "Eu fiquei curioso para dar uma olhada nesses imóveis da Villa Soldati\n",
        "\n",
        "Vamos conferir?\n",
        "\n",
        "Para isso, vamos utilizar a expressão:\n",
        "\n",
        "* b_aires_clean[b_aires_clean.neighbourhood == 'Villa Soldati']\n",
        "\n",
        "Que, de forma fácil, quer dizer:\n",
        "\n",
        "* Da minha tabela **b_aires_clean**, pega todas as linhas que na coluna *neighbourhood* tem 'Villa Soldati' escrito: **[b_aires_clean.neighbourhood == 'Villa Soldati']**\n",
        "\n",
        "Vamos lá!"
      ]
    },
    {
      "cell_type": "code",
      "metadata": {
        "id": "DsGRNlLac8Fa",
        "colab_type": "code",
        "colab": {
          "base_uri": "https://localhost:8080/",
          "height": 250
        },
        "outputId": "9e4dc1ae-b51e-431d-e589-dfd4273306fc"
      },
      "source": [
        "# Olhando os imóveis de Villa Soldati\n",
        "\n",
        "b_aires_clean[b_aires_clean.neighbourhood == 'Villa Soldati']"
      ],
      "execution_count": 86,
      "outputs": [
        {
          "output_type": "execute_result",
          "data": {
            "text/html": [
              "<div>\n",
              "<style scoped>\n",
              "    .dataframe tbody tr th:only-of-type {\n",
              "        vertical-align: middle;\n",
              "    }\n",
              "\n",
              "    .dataframe tbody tr th {\n",
              "        vertical-align: top;\n",
              "    }\n",
              "\n",
              "    .dataframe thead th {\n",
              "        text-align: right;\n",
              "    }\n",
              "</style>\n",
              "<table border=\"1\" class=\"dataframe\">\n",
              "  <thead>\n",
              "    <tr style=\"text-align: right;\">\n",
              "      <th></th>\n",
              "      <th>id</th>\n",
              "      <th>name</th>\n",
              "      <th>host_id</th>\n",
              "      <th>host_name</th>\n",
              "      <th>neighbourhood</th>\n",
              "      <th>latitude</th>\n",
              "      <th>longitude</th>\n",
              "      <th>room_type</th>\n",
              "      <th>price</th>\n",
              "      <th>minimum_nights</th>\n",
              "      <th>number_of_reviews</th>\n",
              "      <th>last_review</th>\n",
              "      <th>reviews_per_month</th>\n",
              "      <th>calculated_host_listings_count</th>\n",
              "      <th>availability_365</th>\n",
              "    </tr>\n",
              "  </thead>\n",
              "  <tbody>\n",
              "    <tr>\n",
              "      <th>14026</th>\n",
              "      <td>32548725</td>\n",
              "      <td>Departamento amplio y cómodo</td>\n",
              "      <td>226116702</td>\n",
              "      <td>Aneth</td>\n",
              "      <td>Villa Soldati</td>\n",
              "      <td>-34.66094</td>\n",
              "      <td>-58.43645</td>\n",
              "      <td>Entire home/apt</td>\n",
              "      <td>2655</td>\n",
              "      <td>1</td>\n",
              "      <td>0</td>\n",
              "      <td>NaN</td>\n",
              "      <td>NaN</td>\n",
              "      <td>2</td>\n",
              "      <td>179</td>\n",
              "    </tr>\n",
              "    <tr>\n",
              "      <th>15710</th>\n",
              "      <td>34492123</td>\n",
              "      <td>Muy buen hambiente..tranquilidad y espacio</td>\n",
              "      <td>260348454</td>\n",
              "      <td>Nilsa</td>\n",
              "      <td>Villa Soldati</td>\n",
              "      <td>-34.65855</td>\n",
              "      <td>-58.44305</td>\n",
              "      <td>Private room</td>\n",
              "      <td>3983</td>\n",
              "      <td>1</td>\n",
              "      <td>0</td>\n",
              "      <td>NaN</td>\n",
              "      <td>NaN</td>\n",
              "      <td>1</td>\n",
              "      <td>364</td>\n",
              "    </tr>\n",
              "    <tr>\n",
              "      <th>16022</th>\n",
              "      <td>34811527</td>\n",
              "      <td>Departamento capital federal 4 ambientes grandes</td>\n",
              "      <td>262448759</td>\n",
              "      <td>Fer</td>\n",
              "      <td>Villa Soldati</td>\n",
              "      <td>-34.66639</td>\n",
              "      <td>-58.44716</td>\n",
              "      <td>Private room</td>\n",
              "      <td>4647</td>\n",
              "      <td>1</td>\n",
              "      <td>0</td>\n",
              "      <td>NaN</td>\n",
              "      <td>NaN</td>\n",
              "      <td>1</td>\n",
              "      <td>365</td>\n",
              "    </tr>\n",
              "  </tbody>\n",
              "</table>\n",
              "</div>"
            ],
            "text/plain": [
              "             id  ... availability_365\n",
              "14026  32548725  ...              179\n",
              "15710  34492123  ...              364\n",
              "16022  34811527  ...              365\n",
              "\n",
              "[3 rows x 15 columns]"
            ]
          },
          "metadata": {
            "tags": []
          },
          "execution_count": 86
        }
      ]
    },
    {
      "cell_type": "markdown",
      "metadata": {
        "id": "dGp89lDgeAfr",
        "colab_type": "text"
      },
      "source": [
        "Podemos ver que:\n",
        "\n",
        "* Há dois quartos privados e uma casa/apartamento inteiro para alguel\n",
        "\n",
        "* Esses imóveis não tem nenhuma avaliação, o que, possivelmente, quer dizer que eles nunca foram alugados\n",
        "\n",
        "* Os preços dos imóveis do tipo \"Quarto privado\" são bastante fora do padrão para os tipos de quartos em questão, visto que:\n",
        "  \n",
        "  * A média do preço de 'Quartos Privados' é 1445,00 Pesos Argentinos\n",
        "\n",
        "Não conseguimos entender o motivo de o(a) dono(a) desses imóveis colocar um valor tão alto...\n",
        "\n",
        "Mas talvez conseguimos entender o motivo de nunca terem sido alugados, né? (Muito caro! Poxa...)\n"
      ]
    },
    {
      "cell_type": "markdown",
      "metadata": {
        "id": "_7wYF7-of7EY",
        "colab_type": "text"
      },
      "source": [
        "### Fazendo um ultimo Gráfico **bem bonito**!"
      ]
    },
    {
      "cell_type": "markdown",
      "metadata": {
        "id": "oAPvre2GgNdr",
        "colab_type": "text"
      },
      "source": [
        "Se nós lembrarmos dos dados, vemos que há duas colunas com valores de **latitude** e **longitude**\n",
        "\n",
        "Se olharmos um mapa Mundi 2D, percebemos que os valores de **latitude** se encaixam perfeitamente no eixo Y\n",
        "\n",
        "E os valores de **longitute** no eixo X\n",
        "\n",
        "Vamos fazer isso?\n",
        "\n",
        "Então, para essa tarefa, nós utilizaremos um tipo de gráfico chamado de **scatter plot**, ou gráfico de dispersão\n",
        "\n",
        "Ele basicamente adiciona pontinhos em um gráfico seguindo os valores dos eixos X e Y, que no nosso caso, são a **longitude** e a **latitude** respectivamente\n",
        "\n",
        "Teremos:\n",
        "\n",
        "* b_aires_clean.plot(kind=\"scatter\", x='longitude', y='latitude', s=5, c = b_aires_clean['price'], cmap='cool', figsize=(15,10));\n",
        "\n",
        "Onde:\n",
        "\n",
        "* `kind` - É o tipo de mapa que queremos desenhar, nesse caso será o **scatter**\n",
        "\n",
        "* `x` - Quais serão os valores do eixo X, no nosso caso sõa os valores da coluna 'longitute'\n",
        "\n",
        "* `y` - Quais serão os valores do eixo Y, no nosso caso sõa os valores da coluna 'latitude'\n",
        "\n",
        "* `s` - É o tamanho de cada ponto (Ou bolinha) do mapa, coloquei 5, mas pode mudar para qualquer valor que você gostar\n",
        "\n",
        "* `c` - Se quisermos que nossas bolinhas mudem de cor devido a algum outro dado, colocamos esse dado aqui\n",
        "\n",
        "  * No nosso caso, queremos que a cor da bolinha seja devido ao preço do imóvel em questão, então passamos **b_aires_clean['price']**\n",
        "\n",
        "* `cmap` - É o mapa de cores que queremos utilizar em nossas bolinhas, acho esse \"cool\" bem legal (Ahá, pegou o trocadilho?)\n",
        "\n",
        "* `figsize` - É o tamanho que queremos desenhar nosso mapa, você também pode mudar esse valor e ver qual fica melhor\n",
        "\n",
        "Vamos lá?!"
      ]
    },
    {
      "cell_type": "code",
      "metadata": {
        "id": "eGEhwPQQg33g",
        "colab_type": "code",
        "colab": {
          "base_uri": "https://localhost:8080/",
          "height": 578
        },
        "outputId": "a5e30d18-92d4-4b3d-94fb-1e94c3ffb5fd"
      },
      "source": [
        "# Plotar um gráfico de dispersão com nossos dados de latitude e longitude\n",
        "\n",
        "b_aires_clean.plot(kind=\"scatter\", x='longitude', y='latitude', s=5, c = b_aires_clean['price'], cmap='cool', figsize=(15,10));"
      ],
      "execution_count": 87,
      "outputs": [
        {
          "output_type": "display_data",
          "data": {
            "image/png": "[encoded data removed]",
            "text/plain": [
              "<Figure size 1080x720 with 2 Axes>"
            ]
          },
          "metadata": {
            "tags": [],
            "needs_background": "light"
          }
        }
      ]
    },
    {
      "cell_type": "markdown",
      "metadata": {
        "id": "gK8nlYTy0TxI",
        "colab_type": "text"
      },
      "source": [
        "Lembra que eu disse que mapas são importantes?\n",
        "\n",
        "Pois é, eles são!\n",
        "\n",
        "E agora nós vamos ver um mapa da cidade de Buenos Aires\n",
        "\n",
        "Para isso vamos utilizar nossa biblioteca \"Folium\" (Tadinha, estava ignorada até agora)\n",
        "\n",
        "Mas como é a expressão mesmo? \"Por último, mas não menos importante\"\n",
        "\n",
        "Vamos desenhar nosso gráfico então\n",
        "\n",
        "Vamos utilizar apenas uma linha para desenhar esse gráfico, olha que fácil!\n",
        "\n",
        "Vamos escrever:\n",
        "\n",
        "* mapa_ba = folium.Map(location=[-34.6083, -58.3712], min_zoom=12, width = '75%', height = '75%')\n",
        "\n",
        "Agora, passo a passo:\n",
        "\n",
        "* Primeiramente precisamos chamar a função **Map()** da biblioteca Folium, para isso, precisamos chamar a biblioteca e depois a função e salvar isso em uma variável que eu vou chamar de \"mapa_ba\"\n",
        "\n",
        "  * Fica assim: mapa_ba = folium.Map()\n",
        "\n",
        "Agora precisamos passar alguns parâmetros dentro dos ():\n",
        "\n",
        "* `location` - Aqui passamos as coordenadas de onde nós queremos desenhar o gráfico, colocamos primeiro a **latitude** e depois a **longitute**, cuidado não erre a ordem\n",
        "\n",
        "  * Com uma pesquisa rápida na internet, encontramos que as coordenadas de Buenos Aires são: -34.6083 (latitude) e -58.3712 (longitude)\n",
        "\n",
        "* `min_zoom` - É o zoom mínimo que nosso mapa pode ter, colocamos em 12 pois assim mostra certinho a cidade e os Bairros de Buenos Aires\n",
        "\n",
        "* `width` e `height` - Aqui mudamos o tamanho do nosso mapa, em porcentagem, deixei em 75% pois fica um tamanho muito bom (Beleza é tudo, né?)\n",
        "\n",
        "Agora só precisamos chamar a variável \"mapa_ba\" e ver nosso gráfico gostosinho desenhado\n",
        "\n",
        "Vamos lá!"
      ]
    },
    {
      "cell_type": "code",
      "metadata": {
        "id": "2zFg6FLcrSVR",
        "colab_type": "code",
        "colab": {
          "base_uri": "https://localhost:8080/",
          "height": 757
        },
        "outputId": "cc5a9156-ad53-455b-9abf-e61939ae2e43"
      },
      "source": [
        "mapa_ba = folium.Map(location=[-34.6083, -58.3712], min_zoom=12, width = '75%', height = '75%')\n",
        "\n",
        "mapa_ba"
      ],
      "execution_count": 88,
      "outputs": [
        {
          "output_type": "execute_result",
          "data": {
            "text/html": [
              "<div style=\"width:100%;\"><div style=\"position:relative;width:100%;height:0;padding-bottom:60%;\"><span style=\"color:#565656\">Make this Notebook Trusted to load map: File -> Trust Notebook</span><iframe src=\"about:blank\" style=\"position:absolute;width:100%;height:100%;left:0;top:0;border:none !important;\" data-html=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 onload=\"this.contentDocument.open();this.contentDocument.write(atob(this.getAttribute('data-html')));this.contentDocument.close();\" allowfullscreen webkitallowfullscreen mozallowfullscreen></iframe></div></div>"
            ],
            "text/plain": [
              "<folium.folium.Map at 0x7f24aa2ff7b8>"
            ]
          },
          "metadata": {
            "tags": []
          },
          "execution_count": 88
        }
      ]
    },
    {
      "cell_type": "markdown",
      "metadata": {
        "id": "p8kNmadMmXbR",
        "colab_type": "text"
      },
      "source": [
        "Comparando o nosso gráfico de dispersão com o mapa que nós desenhamos, podemos ver que:\n",
        "\n",
        "* Primeiramente, tudo ficou bem bonito\n",
        "\n",
        "* Segundo, grande parte dos imóveis para aluguel estão nas margens do \"Rio da Prata\" (Deve ser um local bem bonito)\n",
        "\n",
        "* Grande parte dos imóveis mais caros também estão nas margens do Rio da Prata (Bolinhas rosas)"
      ]
    },
    {
      "cell_type": "markdown",
      "metadata": {
        "id": "GkvAg623RjoR",
        "colab_type": "text"
      },
      "source": [
        "## Conclusões\n"
      ]
    },
    {
      "cell_type": "markdown",
      "metadata": {
        "id": "rbZ3Hsy9Ypw8",
        "colab_type": "text"
      },
      "source": [
        "Bom...\n",
        "\n",
        "Chegamos ao fim das nossas análises\n",
        "\n",
        "Espero que eu tenha te ajudado a entender melhor como funciona uma análise dos dados (Apesar de ter sido uma análise superficial, vimos bastante coisa)\n",
        "\n",
        "E nós chegamos a algumas conclusões:\n",
        "\n",
        "* Quase 79% dos nossos dados são de \"boa qualidade\", isto é, estão dentro do padrão que nós esperamos \n",
        "\n",
        "* Nossos dados não possuem nenhuma correlação entre si\n",
        "\n",
        "* A maioria dos imóveis disponiveis para locação são Apartamentos ou Casas inteiras\n",
        "\n",
        "* Os quartos de hotel são os mais caros, com pouca diferença para os apartamentos/casas inteiras\n",
        "\n",
        "* Não há diferenças entre a quantididade mínima de noites entre os diferentes tipos de quartos\n",
        "\n",
        "* Puerto Madero é o bairro mais caro (E parece ser o mais bonito!)\n",
        "\n",
        "\n",
        "Agradeço por ter chegado até aqui!\n",
        "\n",
        "Me segue nas redes sociais:\n",
        "\n",
        "* [Blog/Site](http://kampferds.mozello.com/) **KampferDS**\n",
        "* [Medium](https://medium.com/@thallitonsilva) **@thallitonsilva**\n",
        "* [LinkedIn](https://www.linkedin.com/in/thallitonsilva) **thallitonsilva**\n",
        "* [Instagram](https://www.instagram.com/thaaaaal/) **@thaaaaal**\n",
        "* [Github](https://github.com/ThallitonSilva) **ThallitonSilva**\n",
        "\n",
        "\n",
        "\n"
      ]
    },
    {
      "cell_type": "markdown",
      "metadata": {
        "id": "bCywYsAXSYt6",
        "colab_type": "text"
      },
      "source": [
        "![Buenos Aires](https://aguiarbuenosaires.com/wp-content/uploads/2015/12/1planetario-800x450.jpg)"
      ]
    }
  ]
}